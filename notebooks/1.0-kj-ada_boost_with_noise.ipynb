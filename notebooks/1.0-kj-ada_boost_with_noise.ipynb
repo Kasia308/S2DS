{
 "cells": [
  {
   "cell_type": "code",
   "execution_count": null,
   "id": "4a1dc239",
   "metadata": {},
   "outputs": [],
   "source": [
    "import pandas as pd\n",
    "import numpy as np\n",
    "import matplotlib.pyplot as plt\n",
    "\n",
    "from sklearn.model_selection import train_test_split, GridSearchCV\n",
    "from sklearn.tree import DecisionTreeClassifier\n",
    "from sklearn.ensemble  import AdaBoostClassifier\n",
    "from sklearn.feature_extraction import DictVectorizer\n",
    "from sklearn.metrics import roc_auc_score, mean_squared_error, r2_score, accuracy_score, confusion_matrix, classification_report, plot_confusion_matrix, make_scorer\n",
    "from sklearn.model_selection import cross_val_score\n",
    "from sklearn.model_selection import ShuffleSplit\n",
    "from sklearn.preprocessing import StandardScaler \n",
    "\n",
    "\n",
    "import sys\n",
    "sys.path.insert(0, '../src/features/')\n",
    "from custom_metric import *\n",
    "\n",
    "\n",
    "pd.set_option(\"display.max.columns\", None)"
   ]
  },
  {
   "cell_type": "code",
   "execution_count": null,
   "id": "a6cee8ad",
   "metadata": {},
   "outputs": [],
   "source": [
    "levels = [1, 2, 3]"
   ]
  },
  {
   "cell_type": "markdown",
   "id": "a694c170",
   "metadata": {},
   "source": [
    "## Ada Boost 1\n",
    "#### Features = 'capacity', 'vib1', 'vib2', 'amp_uni', 'mic1', 'mic2'\n",
    "#### Value = 'type_cat'"
   ]
  },
  {
   "cell_type": "code",
   "execution_count": null,
   "id": "66dded0d",
   "metadata": {},
   "outputs": [],
   "source": [
    "drop_list = ['Unnamed: 0', 'datetime', 'date', 'time', 'pump', 'pump_cat', 'capacity_cat', 'anomaly', 'anomaly_cat', 'anomaly_binary',\n",
    "       'anomaly_binary_cat', 'type', 'vib1', 'vib1_x', 'vib1_y',\n",
    "       'vib1_z', 'vib2', 'vib2_x', 'vib2_y', 'vib2_z', 'amp1', 'amp2',\n",
    "       'amp_uni', 'mic1', 'mic2',\n",
    "       'vib1_x_noise', 'vib1_x_with_noise', 'vib1_y_noise',\n",
    "       'vib1_y_with_noise', 'vib1_z_noise', 'vib1_z_with_noise', 'vib2_x_noise', 'vib2_x_with_noise', 'vib2_y_noise',\n",
    "       'vib2_y_with_noise', 'vib2_z_noise', 'vib2_z_with_noise', 'amp1_noise',\n",
    "       'amp1_with_noise', 'amp2_noise', 'amp2_with_noise', 'mic1_noise', 'mic2_noise']\n",
    "\n",
    "value = 'type_cat'"
   ]
  },
  {
   "cell_type": "markdown",
   "id": "7aa73562",
   "metadata": {},
   "source": [
    "### Firstly, let's just train a model previosly hypertuned for clean data and see how the metrics change with change in noise level."
   ]
  },
  {
   "cell_type": "code",
   "execution_count": null,
   "id": "ac912139",
   "metadata": {},
   "outputs": [],
   "source": [
    "accuracies = {}\n",
    "custom_metrics = {}\n",
    "\n",
    "for level in levels:\n",
    "    \n",
    "    #read in data\n",
    "    data = pd.read_csv('../data/noisy_data_'+str(level)+'.csv')\n",
    "    \n",
    "    #drop the columns we don't need\n",
    "    df = data.drop(drop_list, axis=1)\n",
    "    \n",
    "    #define features and value\n",
    "    X = df.drop(value, axis=1)\n",
    "    y = df[value]\n",
    "    \n",
    "    #create train and test datasets\n",
    "    X_train, X_val, y_train, y_val = train_test_split(X, y, test_size = 0.20, random_state = 100)\n",
    "    \n",
    "    #train the model\n",
    "    model = AdaBoostClassifier(random_state = 100, base_estimator = DecisionTreeClassifier(random_state=100, max_depth=7, max_features=3), n_estimators = 75)\n",
    "    model.fit(X_train, y_train)\n",
    "    \n",
    "    #calculate accuracy and custom metric\n",
    "    \n",
    "    cv = ShuffleSplit(n_splits=10, test_size=0.2, random_state=100)\n",
    "    scores1 = cross_val_score(model, X, y, cv=cv, n_jobs=1)\n",
    "    accuracies[level] = scores1\n",
    "    \n",
    "    scores2 = cross_val_score(model, X, y, cv=cv, n_jobs=1, scoring=make_scorer(cedric_metric_nonbinary, greater_is_better=True))\n",
    "    custom_metrics[level] = scores2\n",
    "    \n",
    "print(accuracies)\n",
    "print(custom_metrics)\n",
    " "
   ]
  },
  {
   "cell_type": "code",
   "execution_count": null,
   "id": "f8eda4f2",
   "metadata": {},
   "outputs": [],
   "source": [
    "for level in levels:\n",
    "    print(accuracies[level].mean())\n",
    "    print(custom_metrics[level].mean())"
   ]
  },
  {
   "cell_type": "code",
   "execution_count": null,
   "id": "2575ee67",
   "metadata": {},
   "outputs": [],
   "source": [
    "noise_levels = accuracies.keys()\n",
    "mean_accuracies = [accuracies[n].mean() for n in levels]\n",
    "# show range of scores using min and max values\n",
    "lower_lim = [accuracies[n].min() for n in levels]\n",
    "upper_lim = [accuracies[n].max() for n in levels]\n",
    "\n",
    "plt.plot(noise_levels, mean_accuracies)\n",
    "plt.fill_between(noise_levels, lower_lim, upper_lim, alpha=0.3, color='gray')\n",
    "\n",
    "plt.title(f'AdaBoost (for {value}) accuracies for different noise levels', fontsize=16)\n",
    "plt.xlabel('noise level', fontsize=14)\n",
    "plt.ylabel('CV accuracy score (mean score / range)', fontsize=14)\n",
    "plt.xticks(fontsize=14)\n",
    "plt.yticks(fontsize=14)\n",
    "\n",
    "fig = plt.gcf()\n",
    "fig.set_size_inches(12, 6)\n",
    "\n",
    "#plt.show()\n",
    "plt.savefig('adaboost_noise.jpeg')"
   ]
  },
  {
   "cell_type": "code",
   "execution_count": null,
   "id": "36453524",
   "metadata": {},
   "outputs": [],
   "source": [
    "noise_levels = custom_metrics.keys()\n",
    "mean_accuracies = [custom_metrics[n].mean() for n in levels]\n",
    "# show range of scores using min and max values\n",
    "lower_lim = [custom_metrics[n].min() for n in levels]\n",
    "upper_lim = [custom_metrics[n].max() for n in levels]\n",
    "\n",
    "plt.plot(noise_levels, mean_accuracies)\n",
    "plt.fill_between(noise_levels, lower_lim, upper_lim, alpha=0.3, color='gray')\n",
    "\n",
    "plt.title(f'AdaBoost (for {value}) custom metrics for different noise levels', fontsize=16)\n",
    "plt.xlabel('noise level', fontsize=14)\n",
    "plt.ylabel('CV custom metric score (mean score / range)', fontsize=14)\n",
    "plt.xticks(fontsize=14)\n",
    "plt.yticks(fontsize=14)\n",
    "\n",
    "fig = plt.gcf()\n",
    "fig.set_size_inches(12, 6)\n",
    "\n",
    "#plt.show()\n",
    "plt.savefig('adaboost_noise.jpeg')"
   ]
  },
  {
   "cell_type": "markdown",
   "id": "c5f25b5a",
   "metadata": {},
   "source": [
    "### Now, let's try hypertuning the models for each noise level separately."
   ]
  },
  {
   "cell_type": "code",
   "execution_count": null,
   "id": "f18a2890",
   "metadata": {},
   "outputs": [],
   "source": [
    "#Let's prepare the dataframes for all noise levels\n",
    "\n",
    "for level in levels:\n",
    "    \n",
    "    #read in data\n",
    "    globals()[f'data_{level}'] = pd.read_csv('../data/noisy_data_'+str(level)+'.csv')\n",
    "    \n",
    "    #drop the columns we don't need\n",
    "    globals()[f'df_{level}'] = globals()[f'data_{level}'].drop(drop_list, axis=1)\n",
    "    \n",
    "    #define features and value\n",
    "    globals()[f'X_{level}'] = globals()[f'df_{level}'].drop(value, axis=1)\n",
    "    globals()[f'y_{level}'] = globals()[f'df_{level}'][value]\n",
    "    \n",
    "    #scale the data\n",
    "    scaler = StandardScaler()  \n",
    "    globals()[f'X_{level}'] = scaler.fit_transform(globals()[f'X_{level}']) \n",
    "    \n",
    "    #create train and test datasets\n",
    "    globals()[f'X_{level}_train'], globals()[f'X_{level}_val'], globals()[f'y_{level}_train'], globals()[f'y_{level}_val'] = train_test_split(globals()[f'X_{level}'], globals()[f'y_{level}'], test_size = 0.20, random_state = 100)\n",
    "    \n",
    "\n",
    "# Define parameters for hypertuning\n",
    "\n",
    "n_estimators = [50, 75, 100]\n",
    "\n",
    "base_estimator__max_features = [2,4,6]\n",
    "\n",
    "base_estimator__max_depth = [1,3,5,7,9,11]\n",
    "\n",
    "weights = [{1: 100, 2: 100, 3: 100},\n",
    "           {1: 300, 2: 300, 3: 300},\n",
    "           {1: 1000, 2: 1000, 3: 1000},\n",
    "           {1: 3000, 2: 3000, 3: 3000}]\n",
    "\n",
    "l_rate = [1, 2, 3]\n",
    "\n",
    "min_s_leaf = [1, 5, 10, 15]\n",
    "\n",
    "min_s_split = [1, 5, 10, 15]\n",
    "\n",
    "criterion = ['gini', 'entropy']\n",
    "\n",
    "search_params = {'n_estimators': n_estimators,\n",
    "                 'base_estimator__max_features': base_estimator__max_features,\n",
    "                 'base_estimator__max_depth': base_estimator__max_depth,\n",
    "                 'base_estimator__class_weight': weights,\n",
    "                 'learning_rate': l_rate,\n",
    "                 'base_estimator__min_samples_leaf': min_s_leaf,\n",
    "                 'base_estimator__min_samples_split': min_s_split,\n",
    "                 'base_estimator__criterion': criterion}\n",
    "\n",
    "cv = ShuffleSplit(n_splits=10, test_size=0.2, random_state=100)\n"
   ]
  },
  {
   "cell_type": "markdown",
   "id": "a6188ebf",
   "metadata": {},
   "source": [
    "### Noise level 1"
   ]
  },
  {
   "cell_type": "code",
   "execution_count": null,
   "id": "93ba1b8b",
   "metadata": {
    "scrolled": true
   },
   "outputs": [],
   "source": [
    "#train the model\n",
    "model_1 = AdaBoostClassifier(random_state = 100, base_estimator = DecisionTreeClassifier(random_state=100))\n",
    "\n",
    "model_1.fit(X_1_train, y_1_train)\n",
    "\n",
    "\n",
    "#perform hypertuning\n",
    "model_1_v2 = GridSearchCV(model_1, search_params, cv=cv, n_jobs=-1, scoring=make_scorer(cedric_metric_nonbinary, greater_is_better=True))\n",
    "\n",
    "model_1_v2.fit(X_1_train, y_1_train)\n",
    "\n",
    "best_params = model_v2.best_params_ #there's a bug in here, but do not want to restart the hypertuning\n",
    "\n",
    "print('Best Parameters', model_1_v2.best_params_)\n"
   ]
  },
  {
   "cell_type": "code",
   "execution_count": null,
   "id": "7273a8df",
   "metadata": {},
   "outputs": [],
   "source": [
    "best_params = model_1_v2.best_params_\n",
    "\n",
    "print('Best Parameters', model_1_v2.best_params_)"
   ]
  },
  {
   "cell_type": "code",
   "execution_count": null,
   "id": "89c5a106",
   "metadata": {},
   "outputs": [],
   "source": [
    "#train the hypetuned model\n",
    "\n",
    "#model_1_v3 = AdaBoostClassifier(random_state = 100, base_estimator = DecisionTreeClassifier(random_state=100, class_weight={1: 1000, 2: 1000, 3: 1000}, criterion='gini', max_depth=1, max_features=6, min_samples_leaf=15, min_samples_split=5), n_estimators=75, learning_rate=2)\n",
    "model_1_v3 = AdaBoostClassifier(random_state = 100, base_estimator = DecisionTreeClassifier(random_state=100, max_depth=7, max_features=3, class_weight={1: 1000, 2: 1000, 3: 1000}), n_estimators = 75)\n",
    "\n",
    "\n",
    "model_1_v3.fit(X_1_train, y_1_train)\n",
    "\n",
    "scores = cross_val_score(model_1_v3, X_1, y_1, cv=cv, n_jobs=-1)\n",
    "print('Cross Validation accuracy scores: %s' % scores)\n",
    "print('Cross Validation accuracy: %.3f +/- %.3f' % (np.mean(scores),np.std(scores)))\n",
    "print('\\n')\n",
    "\n",
    "scores = cross_val_score(model_1_v3, X_1, y_1, cv=cv, n_jobs=-1, scoring=make_scorer(cedric_metric_nonbinary, greater_is_better=True))\n",
    "print('Cross Validation custom metric scores: %s' % scores)\n",
    "print('Cross Validation custom metric: %.3f +/- %.3f' % (np.mean(scores),np.std(scores)))"
   ]
  },
  {
   "cell_type": "markdown",
   "id": "e43725a9",
   "metadata": {},
   "source": [
    "### Noise level 2"
   ]
  },
  {
   "cell_type": "code",
   "execution_count": null,
   "id": "ce3c6908",
   "metadata": {},
   "outputs": [],
   "source": [
    "#train the hypetuned model\n",
    "\n",
    "#model_2_v3 = AdaBoostClassifier(random_state = 100, base_estimator = DecisionTreeClassifier(random_state=100, class_weight={1: 1000, 2: 1000, 3: 1000}, criterion='gini', max_depth=1, max_features=6, min_samples_leaf=15, min_samples_split=5), n_estimators=75, learning_rate=2)\n",
    "model_2_v3 = AdaBoostClassifier(random_state = 100, base_estimator = DecisionTreeClassifier(random_state=100, max_depth=7, max_features=3, class_weight={1: 1000, 2: 1000, 3: 1000}), n_estimators = 75)\n",
    "\n",
    "\n",
    "model_2_v3.fit(X_2_train, y_2_train)\n",
    "\n",
    "scores = cross_val_score(model_2_v3, X_2, y_2, cv=cv, n_jobs=-1)\n",
    "print('Cross Validation accuracy scores: %s' % scores)\n",
    "print('Cross Validation accuracy: %.3f +/- %.3f' % (np.mean(scores),np.std(scores)))\n",
    "print('\\n')\n",
    "\n",
    "scores = cross_val_score(model_2_v3, X_2, y_2, cv=cv, n_jobs=-1, scoring=make_scorer(cedric_metric_nonbinary, greater_is_better=True))\n",
    "print('Cross Validation custom metric scores: %s' % scores)\n",
    "print('Cross Validation custom metric: %.3f +/- %.3f' % (np.mean(scores),np.std(scores)))"
   ]
  },
  {
   "cell_type": "markdown",
   "id": "10c08093",
   "metadata": {},
   "source": [
    "### Noise level 3"
   ]
  },
  {
   "cell_type": "code",
   "execution_count": null,
   "id": "79ac74df",
   "metadata": {},
   "outputs": [],
   "source": [
    "#train the hypetuned model\n",
    "\n",
    "#model_3_v3 = AdaBoostClassifier(random_state = 100, base_estimator = DecisionTreeClassifier(random_state=100, class_weight={1: 1000, 2: 1000, 3: 1000}, criterion='gini', max_depth=1, max_features=6, min_samples_leaf=15, min_samples_split=5), n_estimators=75, learning_rate=2)\n",
    "model_3_v3 = AdaBoostClassifier(random_state = 100, base_estimator = DecisionTreeClassifier(random_state=100, max_depth=7, max_features=3, class_weight={1: 1000, 2: 1000, 3: 1000}), n_estimators = 75)\n",
    "\n",
    "model_3_v3.fit(X_3_train, y_3_train)\n",
    "\n",
    "scores = cross_val_score(model_3_v3, X_3, y_3, cv=cv, n_jobs=-1)\n",
    "print('Cross Validation accuracy scores: %s' % scores)\n",
    "print('Cross Validation accuracy: %.3f +/- %.3f' % (np.mean(scores),np.std(scores)))\n",
    "print('\\n')\n",
    "\n",
    "scores = cross_val_score(model_3_v3, X_3, y_3, cv=cv, n_jobs=-1, scoring=make_scorer(cedric_metric_nonbinary, greater_is_better=True))\n",
    "print('Cross Validation custom metric scores: %s' % scores)\n",
    "print('Cross Validation custom metric: %.3f +/- %.3f' % (np.mean(scores),np.std(scores)))"
   ]
  },
  {
   "cell_type": "markdown",
   "id": "621d6bfa",
   "metadata": {},
   "source": [
    "## Ada Boost 2\n",
    "#### Features = 'capacity', 'vib1', 'vib2', 'amp_uni', 'mic1', 'mic2'\n",
    "#### Value = 'anomaly_binary'"
   ]
  },
  {
   "cell_type": "code",
   "execution_count": null,
   "id": "5d6a0055",
   "metadata": {},
   "outputs": [],
   "source": [
    "drop_list = ['Unnamed: 0', 'datetime', 'date', 'time', 'pump', 'pump_cat', 'capacity_cat', 'anomaly', 'anomaly_cat', 'type_cat',\n",
    "       'anomaly_binary_cat', 'type', 'vib1', 'vib1_x', 'vib1_y',\n",
    "       'vib1_z', 'vib2', 'vib2_x', 'vib2_y', 'vib2_z', 'amp1', 'amp2',\n",
    "       'amp_uni', 'mic1', 'mic2',\n",
    "       'vib1_x_noise', 'vib1_x_with_noise', 'vib1_y_noise',\n",
    "       'vib1_y_with_noise', 'vib1_z_noise', 'vib1_z_with_noise', 'vib2_x_noise', 'vib2_x_with_noise', 'vib2_y_noise',\n",
    "       'vib2_y_with_noise', 'vib2_z_noise', 'vib2_z_with_noise', 'amp1_noise',\n",
    "       'amp1_with_noise', 'amp2_noise', 'amp2_with_noise', 'mic1_noise', 'mic2_noise']\n",
    "\n",
    "value = 'anomaly_binary'"
   ]
  },
  {
   "cell_type": "markdown",
   "id": "3ea82387",
   "metadata": {},
   "source": [
    "### Firstly, let's just train a model previosly hypertuned for clean data and see how the metrics change with change in noise level."
   ]
  },
  {
   "cell_type": "code",
   "execution_count": null,
   "id": "4f6f24cb",
   "metadata": {},
   "outputs": [],
   "source": [
    "accuracies = {}\n",
    "custom_metrics = {}\n",
    "\n",
    "for level in levels:\n",
    "    \n",
    "    #read in data\n",
    "    data = pd.read_csv('../data/noisy_data_'+str(level)+'.csv')\n",
    "    \n",
    "    #drop the columns we don't need\n",
    "    df = data.drop(drop_list, axis=1)\n",
    "    \n",
    "    #define features and value\n",
    "    X = df.drop(value, axis=1)\n",
    "    y = df[value]\n",
    "    \n",
    "    #create train and test datasets\n",
    "    X_train, X_val, y_train, y_val = train_test_split(X, y, test_size = 0.20, random_state = 100)\n",
    "    \n",
    "    #train the model\n",
    "    model = AdaBoostClassifier(random_state = 100, base_estimator = DecisionTreeClassifier(random_state=100, max_depth=5, max_features=5), n_estimators = 75)\n",
    "    model.fit(X_train, y_train)\n",
    "    \n",
    "    #calculate accuracy and custom metric\n",
    "    \n",
    "    cv = ShuffleSplit(n_splits=10, test_size=0.2, random_state=100)\n",
    "    scores1 = cross_val_score(model, X, y, cv=cv, n_jobs=1)\n",
    "    accuracies[level] = scores1\n",
    "    \n",
    "    scores2 = cross_val_score(model, X, y, cv=cv, n_jobs=1, scoring=make_scorer(cedric_metric_binary, greater_is_better=True))\n",
    "    custom_metrics[level] = scores2\n",
    "    \n",
    "print(accuracies)\n",
    "print(custom_metrics)"
   ]
  },
  {
   "cell_type": "code",
   "execution_count": null,
   "id": "23f4c3af",
   "metadata": {},
   "outputs": [],
   "source": [
    "for level in levels:\n",
    "    print(accuracies[level].mean())\n",
    "    print(custom_metrics[level].mean())"
   ]
  },
  {
   "cell_type": "code",
   "execution_count": null,
   "id": "903aaa16",
   "metadata": {},
   "outputs": [],
   "source": [
    "noise_levels = accuracies.keys()\n",
    "mean_accuracies = [accuracies[n].mean() for n in levels]\n",
    "# show range of scores using min and max values\n",
    "lower_lim = [accuracies[n].min() for n in levels]\n",
    "upper_lim = [accuracies[n].max() for n in levels]\n",
    "\n",
    "plt.plot(noise_levels, mean_accuracies)\n",
    "plt.fill_between(noise_levels, lower_lim, upper_lim, alpha=0.3, color='gray')\n",
    "\n",
    "plt.title(f'AdaBoost (for {value}) accuracies for different noise levels', fontsize=16)\n",
    "plt.xlabel('noise level', fontsize=14)\n",
    "plt.ylabel('CV accuracy score (mean score / range)', fontsize=14)\n",
    "plt.xticks(fontsize=14)\n",
    "plt.yticks(fontsize=14)\n",
    "\n",
    "fig = plt.gcf()\n",
    "fig.set_size_inches(12, 6)\n",
    "\n",
    "#plt.show()\n",
    "plt.savefig('adaboost_noise.jpeg')"
   ]
  },
  {
   "cell_type": "code",
   "execution_count": null,
   "id": "f1509f2c",
   "metadata": {},
   "outputs": [],
   "source": [
    "noise_levels = custom_metrics.keys()\n",
    "mean_accuracies = [custom_metrics[n].mean() for n in levels]\n",
    "# show range of scores using min and max values\n",
    "lower_lim = [custom_metrics[n].min() for n in levels]\n",
    "upper_lim = [custom_metrics[n].max() for n in levels]\n",
    "\n",
    "plt.plot(noise_levels, mean_accuracies)\n",
    "plt.fill_between(noise_levels, lower_lim, upper_lim, alpha=0.3, color='gray')\n",
    "\n",
    "plt.title(f'AdaBoost (for {value}) custom metrics for different noise levels', fontsize=16)\n",
    "plt.xlabel('noise level', fontsize=14)\n",
    "plt.ylabel('CV custom metric score (mean score / range)', fontsize=14)\n",
    "plt.xticks(fontsize=14)\n",
    "plt.yticks(fontsize=14)\n",
    "\n",
    "fig = plt.gcf()\n",
    "fig.set_size_inches(12, 6)\n",
    "\n",
    "#plt.show()\n",
    "plt.savefig('adaboost_noise.jpeg')"
   ]
  },
  {
   "cell_type": "markdown",
   "id": "14054dc4",
   "metadata": {},
   "source": [
    "### Now, let's try hypertuning the models for each noise level separately."
   ]
  },
  {
   "cell_type": "code",
   "execution_count": null,
   "id": "df2c4c0b",
   "metadata": {},
   "outputs": [],
   "source": [
    "#Let's prepare the dataframes for all noise levels\n",
    "\n",
    "for level in levels:\n",
    "    \n",
    "    #read in data\n",
    "    globals()[f'data_{level}'] = pd.read_csv('../data/noisy_data_'+str(level)+'.csv')\n",
    "    \n",
    "    #drop the columns we don't need\n",
    "    globals()[f'df_{level}'] = globals()[f'data_{level}'].drop(drop_list, axis=1)\n",
    "    \n",
    "    #define features and value\n",
    "    globals()[f'X_{level}'] = globals()[f'df_{level}'].drop(value, axis=1)\n",
    "    globals()[f'y_{level}'] = globals()[f'df_{level}'][value]\n",
    "    \n",
    "    #scale the data\n",
    "    scaler = StandardScaler()  \n",
    "    globals()[f'X_{level}'] = scaler.fit_transform(globals()[f'X_{level}']) \n",
    "    \n",
    "    #create train and test datasets\n",
    "    globals()[f'X_{level}_train'], globals()[f'X_{level}_val'], globals()[f'y_{level}_train'], globals()[f'y_{level}_val'] = train_test_split(globals()[f'X_{level}'], globals()[f'y_{level}'], test_size = 0.20, random_state = 100)\n",
    "    \n",
    "\n",
    "# Define parameters for hypertuning\n",
    "\n",
    "n_estimators = [50, 75, 100]\n",
    "\n",
    "base_estimator__max_features = [2,4,6]\n",
    "\n",
    "base_estimator__max_depth = [3,5,7]\n",
    "\n",
    "weights = [{1: 1000},\n",
    "           {1: 3000},\n",
    "           {1: 5000}]\n",
    "\n",
    "l_rate = [1, 2, 3]\n",
    "\n",
    "criterion = ['gini', 'entropy']\n",
    "\n",
    "search_params = {'n_estimators': n_estimators,\n",
    "                 'base_estimator__max_features': base_estimator__max_features,\n",
    "                 'base_estimator__max_depth': base_estimator__max_depth,\n",
    "                 'base_estimator__class_weight': weights,\n",
    "                 'learning_rate': l_rate,\n",
    "                 'base_estimator__criterion': criterion}\n",
    "\n",
    "cv = ShuffleSplit(n_splits=10, test_size=0.2, random_state=100)\n"
   ]
  },
  {
   "cell_type": "markdown",
   "id": "5ccb3c7d",
   "metadata": {},
   "source": [
    "### Noise level 1"
   ]
  },
  {
   "cell_type": "code",
   "execution_count": null,
   "id": "6070a18c",
   "metadata": {},
   "outputs": [],
   "source": [
    "#train the model\n",
    "model_1 = AdaBoostClassifier(random_state = 100, base_estimator = DecisionTreeClassifier(random_state=100))\n",
    "\n",
    "model_1.fit(X_1_train, y_1_train)\n",
    "\n",
    "\n",
    "#perform hypertuning\n",
    "model_1_v2 = GridSearchCV(model_1, search_params, cv=cv, n_jobs=-1, scoring=make_scorer(cedric_metric_binary, greater_is_better=True))\n",
    "\n",
    "model_1_v2.fit(X_1_train, y_1_train)\n",
    "\n",
    "best_params = model_1_v2.best_params_ \n",
    "print('Best Parameters', model_1_v2.best_params_)"
   ]
  },
  {
   "cell_type": "code",
   "execution_count": null,
   "id": "4520979d",
   "metadata": {},
   "outputs": [],
   "source": [
    "#train the hypetuned model\n",
    "\n",
    "model_1_v3 = AdaBoostClassifier(random_state = 100, base_estimator = DecisionTreeClassifier(random_state=100, class_weight={1: 3000}, criterion='gini', max_depth=5, max_features=4), n_estimators=75, learning_rate=3)\n",
    "#model_1_v3 = AdaBoostClassifier(random_state = 100, base_estimator = DecisionTreeClassifier(random_state=100, max_depth=7, max_features=3, class_weight={1: 1000, 2: 1000, 3: 1000}), n_estimators = 75)\n",
    "\n",
    "\n",
    "model_1_v3.fit(X_1_train, y_1_train)\n",
    "\n",
    "scores = cross_val_score(model_1_v3, X_1, y_1, cv=cv, n_jobs=-1)\n",
    "print('Cross Validation accuracy scores: %s' % scores)\n",
    "print('Cross Validation accuracy: %.3f +/- %.3f' % (np.mean(scores),np.std(scores)))\n",
    "print('\\n')\n",
    "\n",
    "scores = cross_val_score(model_1_v3, X_1, y_1, cv=cv, n_jobs=-1, scoring=make_scorer(cedric_metric_binary, greater_is_better=True))\n",
    "print('Cross Validation custom metric scores: %s' % scores)\n",
    "print('Cross Validation custom metric: %.3f +/- %.3f' % (np.mean(scores),np.std(scores)))"
   ]
  },
  {
   "cell_type": "markdown",
   "id": "d2e6a994",
   "metadata": {},
   "source": [
    "### Noise level 2"
   ]
  },
  {
   "cell_type": "code",
   "execution_count": null,
   "id": "53009a2b",
   "metadata": {},
   "outputs": [],
   "source": [
    "#train the model\n",
    "model_2 = AdaBoostClassifier(random_state = 100, base_estimator = DecisionTreeClassifier(random_state=100))\n",
    "\n",
    "model_2.fit(X_2_train, y_2_train)\n",
    "\n",
    "\n",
    "#perform hypertuning\n",
    "model_2_v2 = GridSearchCV(model_2, search_params, cv=cv, n_jobs=-1, scoring=make_scorer(cedric_metric_binary, greater_is_better=True))\n",
    "\n",
    "model_2_v2.fit(X_2_train, y_2_train)\n",
    "\n",
    "best_params = model_2_v2.best_params_ \n",
    "print('Best Parameters', model_2_v2.best_params_)"
   ]
  },
  {
   "cell_type": "code",
   "execution_count": null,
   "id": "8f05b137",
   "metadata": {},
   "outputs": [],
   "source": [
    "#train the hypetuned model\n",
    "\n",
    "model_2_v3 = AdaBoostClassifier(random_state = 100, base_estimator = DecisionTreeClassifier(random_state=100, class_weight={1: 3000}, criterion='gini', max_depth=5, max_features=4), n_estimators=75, learning_rate=3)\n",
    "#model_1_v3 = AdaBoostClassifier(random_state = 100, base_estimator = DecisionTreeClassifier(random_state=100, max_depth=7, max_features=3, class_weight={1: 1000, 2: 1000, 3: 1000}), n_estimators = 75)\n",
    "\n",
    "\n",
    "model_2_v3.fit(X_1_train, y_1_train)\n",
    "\n",
    "scores = cross_val_score(model_2_v3, X_2, y_2, cv=cv, n_jobs=-1)\n",
    "print('Cross Validation accuracy scores: %s' % scores)\n",
    "print('Cross Validation accuracy: %.3f +/- %.3f' % (np.mean(scores),np.std(scores)))\n",
    "print('\\n')\n",
    "\n",
    "scores = cross_val_score(model_2_v3, X_2, y_2, cv=cv, n_jobs=-1, scoring=make_scorer(cedric_metric_binary, greater_is_better=True))\n",
    "print('Cross Validation custom metric scores: %s' % scores)\n",
    "print('Cross Validation custom metric: %.3f +/- %.3f' % (np.mean(scores),np.std(scores)))"
   ]
  },
  {
   "cell_type": "markdown",
   "id": "c490aa41",
   "metadata": {},
   "source": [
    "### Noise level 3"
   ]
  },
  {
   "cell_type": "code",
   "execution_count": null,
   "id": "7af12ed0",
   "metadata": {},
   "outputs": [],
   "source": [
    "#train the model\n",
    "model_3 = AdaBoostClassifier(random_state = 100, base_estimator = DecisionTreeClassifier(random_state=100))\n",
    "\n",
    "model_3.fit(X_3_train, y_3_train)\n",
    "\n",
    "\n",
    "#perform hypertuning\n",
    "model_3_v2 = GridSearchCV(model_3, search_params, cv=cv, n_jobs=-1, scoring=make_scorer(cedric_metric_binary, greater_is_better=True))\n",
    "\n",
    "model_3_v2.fit(X_3_train, y_3_train)\n",
    "\n",
    "best_params = model_3_v2.best_params_ \n",
    "print('Best Parameters', model_2_v2.best_params_)"
   ]
  },
  {
   "cell_type": "code",
   "execution_count": null,
   "id": "fda03f6f",
   "metadata": {},
   "outputs": [],
   "source": [
    "#train the hypetuned model\n",
    "\n",
    "model_3_v3 = AdaBoostClassifier(random_state = 100, base_estimator = DecisionTreeClassifier(random_state=100, class_weight={1: 3000}, criterion='gini', max_depth=5, max_features=4), n_estimators=50, learning_rate=3)\n",
    "#model_3_v3 = AdaBoostClassifier(random_state = 100, base_estimator = DecisionTreeClassifier(random_state=100, max_depth=7, max_features=3, class_weight={1: 1000, 2: 1000, 3: 1000}), n_estimators = 75)\n",
    "\n",
    "\n",
    "model_3_v3.fit(X_3_train, y_3_train)\n",
    "\n",
    "scores = cross_val_score(model_3_v3, X_3, y_3, cv=cv, n_jobs=-1)\n",
    "print('Cross Validation accuracy scores: %s' % scores)\n",
    "print('Cross Validation accuracy: %.3f +/- %.3f' % (np.mean(scores),np.std(scores)))\n",
    "print('\\n')\n",
    "\n",
    "scores = cross_val_score(model_3_v3, X_3, y_3, cv=cv, n_jobs=-1, scoring=make_scorer(cedric_metric_binary, greater_is_better=True))\n",
    "print('Cross Validation custom metric scores: %s' % scores)\n",
    "print('Cross Validation custom metric: %.3f +/- %.3f' % (np.mean(scores),np.std(scores)))"
   ]
  },
  {
   "cell_type": "code",
   "execution_count": null,
   "id": "96859901",
   "metadata": {},
   "outputs": [],
   "source": []
  }
 ],
 "metadata": {
  "kernelspec": {
   "display_name": "Python 3",
   "language": "python",
   "name": "python3"
  },
  "language_info": {
   "codemirror_mode": {
    "name": "ipython",
    "version": 3
   },
   "file_extension": ".py",
   "mimetype": "text/x-python",
   "name": "python",
   "nbconvert_exporter": "python",
   "pygments_lexer": "ipython3",
   "version": "3.8.8"
  }
 },
 "nbformat": 4,
 "nbformat_minor": 5
}
