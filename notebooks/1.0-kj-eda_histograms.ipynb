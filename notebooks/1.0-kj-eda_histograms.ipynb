{
 "cells": [
  {
   "cell_type": "markdown",
   "id": "72ea17c4-016d-47a6-9471-ff410fd8539d",
   "metadata": {},
   "source": [
    "# EDA - main focus on histograms"
   ]
  },
  {
   "cell_type": "markdown",
   "id": "b5aa556b-8033-4b83-bef1-688d7ab461d0",
   "metadata": {},
   "source": [
    "### Load libraries"
   ]
  },
  {
   "cell_type": "code",
   "execution_count": null,
   "id": "880cb8c8-71b5-4cdb-9b31-990ba155159c",
   "metadata": {},
   "outputs": [],
   "source": [
    "import numpy as np\n",
    "import pandas as pd\n",
    "import datetime as dt\n",
    "import matplotlib.pyplot as plt\n",
    "from matplotlib.ticker import StrMethodFormatter"
   ]
  },
  {
   "cell_type": "markdown",
   "id": "75897641-684f-4da9-99b0-13a2ad86789d",
   "metadata": {},
   "source": [
    "### Load data from Excel file"
   ]
  },
  {
   "cell_type": "code",
   "execution_count": null,
   "id": "c709d076-eb52-4e50-a42e-aab7618965ce",
   "metadata": {},
   "outputs": [],
   "source": [
    "data = pd.read_excel('../data/ThermoAI_Data_review_r5.xlsx',  sheet_name=\"Cleaned Imported Data\", header=0)\n",
    "data.head()"
   ]
  },
  {
   "cell_type": "code",
   "execution_count": null,
   "id": "6faa13fe-1230-4558-b5d4-a03d9998e8b6",
   "metadata": {},
   "outputs": [],
   "source": [
    "data.duplicated().value_counts()"
   ]
  },
  {
   "cell_type": "code",
   "execution_count": null,
   "id": "45304870",
   "metadata": {},
   "outputs": [],
   "source": [
    "# Date and time cleaning\n",
    "\n",
    "data.iloc[2,1] = dt.time(11, 5, 00)\n",
    "data.rename(columns = {'I':'date'}, inplace = True)\n",
    "data['date'] = pd.to_datetime(data['date'])\n",
    "data['datetime'] = data.apply(lambda data : dt.datetime.combine(data['date'],data['time']),1)"
   ]
  },
  {
   "cell_type": "code",
   "execution_count": null,
   "id": "8f6ed955",
   "metadata": {},
   "outputs": [],
   "source": [
    "# Cleaning the type column\n",
    "\n",
    "data['type'].fillna(0, inplace=True)\n",
    "data['type'] = data['type'].astype(int)"
   ]
  },
  {
   "cell_type": "code",
   "execution_count": null,
   "id": "eb493d00",
   "metadata": {},
   "outputs": [],
   "source": [
    "# Categorized version of relevant columns\n",
    "\n",
    "data['capacity_cat'] = pd.Categorical(data['capacity'])\n",
    "data['type_cat'] = pd.Categorical(data['type'])\n",
    "data['anomaly_cat'] = pd.Categorical(data['anomaly'])\n",
    "data['pump_cat'] = pd.Categorical(data['pump'])"
   ]
  },
  {
   "cell_type": "code",
   "execution_count": null,
   "id": "bf226fa2",
   "metadata": {},
   "outputs": [],
   "source": [
    "# Reorder the columns\n",
    "\n",
    "data = data[['datetime', 'date', 'time', 'pump', 'pump_cat', 'capacity', 'capacity_cat', 'anomaly', 'anomaly_cat', 'type', 'type_cat',\n",
    "       'vib1_x', 'vib1_y', 'vib1_z', 'vib2_x', 'vib2_y', 'vib2_z', 'amp1', 'amp2', 'mic1', 'mic2']]"
   ]
  },
  {
   "cell_type": "code",
   "execution_count": null,
   "id": "02333e65",
   "metadata": {},
   "outputs": [],
   "source": [
    "data.info()"
   ]
  },
  {
   "cell_type": "code",
   "execution_count": null,
   "id": "f69109fb",
   "metadata": {},
   "outputs": [],
   "source": [
    "data.sample(10)"
   ]
  },
  {
   "cell_type": "code",
   "execution_count": null,
   "id": "3b80d04f",
   "metadata": {},
   "outputs": [],
   "source": [
    "# add column for vibration magnitude using sqrt(x^2+y^2+z^2)\n",
    "\n",
    "data['vib1_magnitude'] = np.sqrt(data['vib1_x']**2 + data['vib1_y']**2 + data['vib1_z']**2)\n",
    "data['vib2_magnitude'] = np.sqrt(data['vib2_x']**2 + data['vib2_y']**2 + data['vib2_z']**2)"
   ]
  },
  {
   "cell_type": "markdown",
   "id": "55d629c4",
   "metadata": {},
   "source": [
    "# Basic histograms"
   ]
  },
  {
   "cell_type": "code",
   "execution_count": null,
   "id": "a63a0083",
   "metadata": {
    "scrolled": true
   },
   "outputs": [],
   "source": [
    "# Vib1_x Histogram grouped by type\n",
    "VAR = 'vib1_x'\n",
    "data.groupby(['type'])[VAR].plot.hist(alpha=0.5, legend=True, figsize=(8,4), title=f'Distribution of {VAR} with respect to anomaly type')\n",
    "plt.xlabel(f'{VAR}')"
   ]
  },
  {
   "cell_type": "code",
   "execution_count": null,
   "id": "a4116488",
   "metadata": {},
   "outputs": [],
   "source": [
    "# Vib1_y Histogram grouped by type\n",
    "VAR = 'vib1_y'\n",
    "\n",
    "data.groupby(['type'])[VAR].plot.hist(alpha=0.5, legend=True, figsize=(8,4), title=f'Distribution of {VAR} with respect to anomaly type', bins=[x / 5 for x in range(int(min(data[VAR])),int(max(data[VAR])*5))])"
   ]
  },
  {
   "cell_type": "code",
   "execution_count": null,
   "id": "536da583",
   "metadata": {},
   "outputs": [],
   "source": [
    "# Vib1_z Histogram grouped by type\n",
    "VAR = 'vib1_z'\n",
    "data.groupby(['type'])[VAR].plot.hist(alpha=0.5, legend=True, figsize=(8,4), title=f'Distribution of {VAR} with respect to anomaly type')\n",
    "plt.xlabel(f'{VAR}')"
   ]
  },
  {
   "cell_type": "code",
   "execution_count": null,
   "id": "c81ef1cd",
   "metadata": {},
   "outputs": [],
   "source": [
    "# Vib2_x Histogram grouped by type\n",
    "VAR = 'vib2_x'\n",
    "data.groupby(['type'])[VAR].plot.hist(alpha=0.5, legend=True, figsize=(8,4), title=f'Distribution of {VAR} with respect to anomaly type')\n",
    "plt.xlabel(f'{VAR}')"
   ]
  },
  {
   "cell_type": "code",
   "execution_count": null,
   "id": "f78494ad",
   "metadata": {},
   "outputs": [],
   "source": [
    "# Vib2_y Histogram grouped by type\n",
    "VAR = 'vib2_y'\n",
    "data.groupby(['type'])[VAR].plot.hist(alpha=0.5, legend=True, figsize=(8,4), title=f'Distribution of {VAR} with respect to anomaly type')\n",
    "plt.xlabel(f'{VAR}')"
   ]
  },
  {
   "cell_type": "code",
   "execution_count": null,
   "id": "ee0795b1",
   "metadata": {},
   "outputs": [],
   "source": [
    "# Vib2_z Histogram grouped by type\n",
    "VAR = 'vib2_z'\n",
    "data.groupby(['type'])[VAR].plot.hist(alpha=0.5, legend=True, figsize=(8,4), title=f'Distribution of {VAR} with respect to anomaly type')\n",
    "plt.xlabel(f'{VAR}')"
   ]
  },
  {
   "cell_type": "code",
   "execution_count": null,
   "id": "408c2495",
   "metadata": {},
   "outputs": [],
   "source": [
    "# Vib1_magnitude Histogram grouped by type\n",
    "VAR = 'vib1_magnitude'\n",
    "data.groupby(['type'])[VAR].plot.hist(alpha=0.5, legend=True, figsize=(8,4), title=f'Distribution of {VAR} with respect to anomaly type')\n",
    "plt.xlabel(f'{VAR}')"
   ]
  },
  {
   "cell_type": "code",
   "execution_count": null,
   "id": "c30ada93",
   "metadata": {},
   "outputs": [],
   "source": [
    "# Vib2_magnitude Histogram grouped by type\n",
    "VAR = 'vib2_magnitude'\n",
    "data.groupby(['type'])[VAR].plot.hist(alpha=0.5, legend=True, figsize=(8,4), title=f'Distribution of {VAR} with respect to anomaly type')\n",
    "plt.xlabel(f'{VAR}')"
   ]
  },
  {
   "cell_type": "code",
   "execution_count": null,
   "id": "ca72a238",
   "metadata": {},
   "outputs": [],
   "source": [
    "# Amp1 Histogram grouped by type\n",
    "VAR = 'amp1'\n",
    "data.groupby(['type'])[VAR].plot.hist(alpha=0.5, legend=True, figsize=(8,4), title=f'Distribution of {VAR} with respect to anomaly type')\n",
    "plt.xlabel(f'{VAR}')"
   ]
  },
  {
   "cell_type": "code",
   "execution_count": null,
   "id": "1b2bc690",
   "metadata": {},
   "outputs": [],
   "source": [
    "# Amp2 Histogram grouped by type\n",
    "VAR = 'amp2'\n",
    "data.groupby(['type'])[VAR].plot.hist(alpha=0.5, legend=True, figsize=(8,4), title=f'Distribution of {VAR} with respect to anomaly type')\n",
    "plt.xlabel(f'{VAR}')"
   ]
  },
  {
   "cell_type": "code",
   "execution_count": null,
   "id": "46b60f09",
   "metadata": {
    "scrolled": true
   },
   "outputs": [],
   "source": [
    "# Mic1 Histogram grouped by type\n",
    "VAR = 'mic1'\n",
    "data.groupby(['type'])[VAR].plot.hist(alpha=0.5, legend=True, figsize=(8,4), title=f'Distribution of {VAR} with respect to anomaly type')\n",
    "plt.xlabel(f'{VAR}')"
   ]
  },
  {
   "cell_type": "code",
   "execution_count": null,
   "id": "8c29a340",
   "metadata": {},
   "outputs": [],
   "source": [
    "# Mic2 Histogram grouped by type\n",
    "VAR = 'mic2'\n",
    "data.groupby(['type'])[VAR].plot.hist(alpha=0.5, legend=True, figsize=(8,4), title=f'Distribution of {VAR} with respect to anomaly type')\n",
    "plt.xlabel(f'{VAR}')"
   ]
  },
  {
   "cell_type": "markdown",
   "id": "a43c8bcd",
   "metadata": {},
   "source": [
    "# Amp1 and Amp2 analysis"
   ]
  },
  {
   "cell_type": "markdown",
   "id": "13c78471",
   "metadata": {},
   "source": [
    "#### In case of amp1 and amp2 it would be useful to plot separate histograms for small and big pump and then, also, for different capacities."
   ]
  },
  {
   "cell_type": "code",
   "execution_count": null,
   "id": "721bba87",
   "metadata": {},
   "outputs": [],
   "source": [
    "# Amp1 Histogram grouped by type for small pump\n",
    "\n",
    "data[data['pump']=='small'].groupby(['type']).amp1.plot.hist(alpha=0.5, legend=True, title='Amp1 distribution for small pump with respect to anomaly type', figsize=(8,4))\n",
    "plt.xlabel('amp1')"
   ]
  },
  {
   "cell_type": "code",
   "execution_count": null,
   "id": "a24f6108",
   "metadata": {},
   "outputs": [],
   "source": [
    "# Amp2 Histogram grouped by type for big pump\n",
    "data[data['pump']=='big'].groupby(['type']).amp2.plot.hist(alpha=0.5, legend=True, title='Amp2 for big pump with respect to anomaly type', figsize=(8,4))\n",
    "Cplt.xlabel('amp2')                                                "
   ]
  },
  {
   "cell_type": "code",
   "execution_count": null,
   "id": "a87e0c2d",
   "metadata": {},
   "outputs": [],
   "source": [
    "CAPACITY = 100\n",
    "PUMP = 'small'\n",
    "AMP = 'amp1'\n",
    "\n",
    "data1 = data[data['capacity']==CAPACITY]\n",
    "data2 = data1[data1['pump'] == f'{PUMP}']\n",
    "\n",
    "data2.groupby(['type'])[AMP].plot.hist(alpha=0.5, legend=True, title=f'{AMP} for {PUMP} pump with capacity of {CAPACITY}% with respect to anomaly type', figsize=(8,4))\n",
    "plt.xlabel(f'{AMP}')\n"
   ]
  },
  {
   "cell_type": "code",
   "execution_count": null,
   "id": "2b30285e",
   "metadata": {},
   "outputs": [],
   "source": [
    "CAPACITY = 75\n",
    "PUMP = 'small'\n",
    "AMP = 'amp1'\n",
    "\n",
    "data1 = data[data['capacity']==CAPACITY]\n",
    "data2 = data1[data1['pump'] == f'{PUMP}']\n",
    "\n",
    "data2.groupby(['type'])[AMP].plot.hist(alpha=0.5, legend=True, title=f'{AMP} for {PUMP} pump with capacity of {CAPACITY}% with respect to anomaly type', figsize=(8,4))\n",
    "plt.xlabel(f'{AMP}')"
   ]
  },
  {
   "cell_type": "code",
   "execution_count": null,
   "id": "d9f453cb",
   "metadata": {},
   "outputs": [],
   "source": [
    "CAPACITY = 50\n",
    "PUMP = 'small'\n",
    "AMP = 'amp1'\n",
    "\n",
    "data1 = data[data['capacity']==CAPACITY]\n",
    "data2 = data1[data1['pump'] == f'{PUMP}']\n",
    "\n",
    "data2.groupby(['type'])[AMP].plot.hist(alpha=0.5, legend=True, title=f'{AMP} for {PUMP} pump with capacity of {CAPACITY}% with respect to anomaly type', figsize=(8,4))\n",
    "plt.xlabel(f'{AMP}')"
   ]
  },
  {
   "cell_type": "code",
   "execution_count": null,
   "id": "70f1ffbe",
   "metadata": {},
   "outputs": [],
   "source": [
    "CAPACITY = 100\n",
    "PUMP = 'big'\n",
    "AMP = 'amp2'\n",
    "\n",
    "data1 = data[data['capacity']==CAPACITY]\n",
    "data2 = data1[data1['pump'] == f'{PUMP}']\n",
    "\n",
    "data2.groupby(['type'])[AMP].plot.hist(alpha=0.5, legend=True, title=f'{AMP} for {PUMP} pump with capacity of {CAPACITY}% with respect to anomaly type', figsize=(8,4))\n",
    "plt.xlabel(f'{AMP}')"
   ]
  },
  {
   "cell_type": "code",
   "execution_count": null,
   "id": "a3b95f26",
   "metadata": {},
   "outputs": [],
   "source": [
    "CAPACITY = 75\n",
    "PUMP = 'big'\n",
    "AMP = 'amp2'\n",
    "\n",
    "data1 = data[data['capacity']==CAPACITY]\n",
    "data2 = data1[data1['pump'] == f'{PUMP}']\n",
    "\n",
    "data2.groupby(['type'])[AMP].plot.hist(alpha=0.5, legend=True, title=f'{AMP} for {PUMP} pump with capacity of {CAPACITY}% with respect to anomaly type', figsize=(8,4))\n",
    "plt.xlabel(f'{AMP}')"
   ]
  },
  {
   "cell_type": "code",
   "execution_count": null,
   "id": "264a577d",
   "metadata": {},
   "outputs": [],
   "source": [
    "CAPACITY = 50\n",
    "PUMP = 'big'\n",
    "AMP = 'amp2'\n",
    "\n",
    "data1 = data[data['capacity']==CAPACITY]\n",
    "data2 = data1[data1['pump'] == f'{PUMP}']\n",
    "\n",
    "data2.groupby(['type'])[AMP].plot.hist(alpha=0.5, legend=True, title=f'{AMP} for {PUMP} pump with capacity of {CAPACITY}% with respect to anomaly type', figsize=(8,4))\n",
    "plt.xlabel(f'{AMP}')"
   ]
  },
  {
   "cell_type": "markdown",
   "id": "08e9749f",
   "metadata": {},
   "source": [
    "#### Analysis of the above histograms leads to a conclusion that type 2 anomalies should be easily traceble with the use of amp1 in case of the small pump and amp2 in case of the big pump for higer capacities (75% and 100%). "
   ]
  },
  {
   "cell_type": "markdown",
   "id": "b077ca93",
   "metadata": {},
   "source": [
    "## Mic1 and Mic2 analysis"
   ]
  },
  {
   "cell_type": "code",
   "execution_count": null,
   "id": "a5494d57",
   "metadata": {},
   "outputs": [],
   "source": [
    "PUMP = 'small'\n",
    "MIC = 'mic1'\n",
    "\n",
    "data[data['pump']==PUMP].groupby(['type'])[MIC].plot.hist(alpha=0.5, legend=True, title=f'{MIC} distribution for {PUMP} pump with respect to anomaly type', figsize=(8,4))\n",
    "plt.xlabel(f'{MIC}')"
   ]
  },
  {
   "cell_type": "code",
   "execution_count": null,
   "id": "178a76f9",
   "metadata": {},
   "outputs": [],
   "source": [
    "PUMP = 'big'\n",
    "MIC = 'mic1'\n",
    "\n",
    "data[data['pump']==PUMP].groupby(['type'])[MIC].plot.hist(alpha=0.5, legend=True, title=f'{MIC} distribution for {PUMP} pump with respect to anomaly type', figsize=(8,4))\n",
    "plt.xlabel(f'{MIC}')"
   ]
  },
  {
   "cell_type": "markdown",
   "id": "0d2cdc91",
   "metadata": {},
   "source": [
    "#### In case of the small pump, anomaly type 2 could be easily detected as anomaly, because the readings of mic1 tend to be much smaller as compared to the normal mode."
   ]
  },
  {
   "cell_type": "code",
   "execution_count": null,
   "id": "5b47308a",
   "metadata": {},
   "outputs": [],
   "source": [
    "PUMP = 'small'\n",
    "MIC = 'mic2'\n",
    "\n",
    "data[data['pump']==PUMP].groupby(['type'])[MIC].plot.hist(alpha=0.5, legend=True, title=f'{MIC} distribution for {PUMP} pump with respect to anomaly type', figsize=(8,4))\n",
    "plt.xlabel(f'{MIC}')"
   ]
  },
  {
   "cell_type": "code",
   "execution_count": null,
   "id": "6a6d659e",
   "metadata": {},
   "outputs": [],
   "source": [
    "PUMP = 'big'\n",
    "MIC = 'mic2'\n",
    "\n",
    "data[data['pump']==PUMP].groupby(['type'])[MIC].plot.hist(alpha=0.5, legend=True, title=f'{MIC} distribution for {PUMP} pump with respect to anomaly type', figsize=(8,4))\n",
    "plt.xlabel(f'{MIC}')"
   ]
  },
  {
   "cell_type": "markdown",
   "id": "e4143f18",
   "metadata": {},
   "source": [
    "#### In case of the big pump, anomaly type 3 could be easily detected as anomaly, because the readings of mic2 tend to be much larger as compared to the normal mode."
   ]
  },
  {
   "cell_type": "code",
   "execution_count": null,
   "id": "0cd2cf7c",
   "metadata": {},
   "outputs": [],
   "source": [
    "CAPACITY = 100\n",
    "PUMP = 'small'\n",
    "MIC = 'mic1'\n",
    "\n",
    "data1 = data[data['capacity']==CAPACITY]\n",
    "data2 = data1[data1['pump'] == f'{PUMP}']\n",
    "\n",
    "data2.groupby(['type'])[MIC].plot.hist(alpha=0.5, legend=True, title=f'{MIC} for {PUMP} pump with capacity of {CAPACITY}% with respect to anomaly type', figsize=(8,4))\n",
    "plt.xlabel(f'{MIC}')"
   ]
  },
  {
   "cell_type": "code",
   "execution_count": null,
   "id": "6edf920c",
   "metadata": {},
   "outputs": [],
   "source": [
    "CAPACITY = 75\n",
    "PUMP = 'small'\n",
    "MIC = 'mic1'\n",
    "\n",
    "data1 = data[data['capacity']==CAPACITY]\n",
    "data2 = data1[data1['pump'] == f'{PUMP}']\n",
    "\n",
    "data2.groupby(['type'])[MIC].plot.hist(alpha=0.5, legend=True, title=f'{MIC} for {PUMP} pump with capacity of {CAPACITY}% with respect to anomaly type', figsize=(8,4))\n",
    "plt.xlabel(f'{MIC}')"
   ]
  },
  {
   "cell_type": "code",
   "execution_count": null,
   "id": "c3f084a5",
   "metadata": {},
   "outputs": [],
   "source": [
    "CAPACITY = 50\n",
    "PUMP = 'small'\n",
    "MIC = 'mic1'\n",
    "\n",
    "data1 = data[data['capacity']==CAPACITY]\n",
    "data2 = data1[data1['pump'] == f'{PUMP}']\n",
    "\n",
    "data2.groupby(['type'])[MIC].plot.hist(alpha=0.5, legend=True, title=f'{MIC} for {PUMP} pump with capacity of {CAPACITY}% with respect to anomaly type', figsize=(8,4))\n",
    "plt.xlabel(f'{MIC}')"
   ]
  },
  {
   "cell_type": "markdown",
   "id": "c50e04d3",
   "metadata": {},
   "source": [
    "#### The three above histograms show more clerly what was stated before that in case of the small pump, anomaly type 2 could be easily detected as anomaly, because the readings of mic1 tend to be much smaller as compared to the normal mode."
   ]
  },
  {
   "cell_type": "code",
   "execution_count": null,
   "id": "2b7ee49c",
   "metadata": {},
   "outputs": [],
   "source": [
    "CAPACITY = 100\n",
    "PUMP = 'small'\n",
    "MIC = 'mic2'\n",
    "\n",
    "data1 = data[data['capacity']==CAPACITY]\n",
    "data2 = data1[data1['pump'] == f'{PUMP}']\n",
    "\n",
    "data2.groupby(['type'])[MIC].plot.hist(alpha=0.5, legend=True, title=f'{MIC} for {PUMP} pump with capacity of {CAPACITY}% with respect to anomaly type', figsize=(8,4))\n",
    "plt.xlabel(f'{MIC}')"
   ]
  },
  {
   "cell_type": "markdown",
   "id": "5fd1eb58",
   "metadata": {},
   "source": [
    "#### The above histogram shows that mic2 could be used to find anomaly type 2 for small pump at 100% capacity."
   ]
  },
  {
   "cell_type": "code",
   "execution_count": null,
   "id": "0a50b4cd",
   "metadata": {},
   "outputs": [],
   "source": [
    "CAPACITY = 75\n",
    "PUMP = 'small'\n",
    "MIC = 'mic2'\n",
    "\n",
    "data1 = data[data['capacity']==CAPACITY]\n",
    "data2 = data1[data1['pump'] == f'{PUMP}']\n",
    "\n",
    "data2.groupby(['type'])[MIC].plot.hist(alpha=0.5, legend=True, title=f'{MIC} for {PUMP} pump with capacity of {CAPACITY}% with respect to anomaly type', figsize=(8,4))\n",
    "plt.xlabel(f'{MIC}')"
   ]
  },
  {
   "cell_type": "code",
   "execution_count": null,
   "id": "49faeb4f",
   "metadata": {},
   "outputs": [],
   "source": [
    "CAPACITY = 50\n",
    "PUMP = 'small'\n",
    "MIC = 'mic2'\n",
    "\n",
    "data1 = data[data['capacity']==CAPACITY]\n",
    "data2 = data1[data1['pump'] == f'{PUMP}']\n",
    "\n",
    "data2.groupby(['type'])[MIC].plot.hist(alpha=0.5, legend=True, title=f'{MIC} for {PUMP} pump with capacity of {CAPACITY}% with respect to anomaly type', figsize=(8,4))\n",
    "plt.xlabel(f'{MIC}')"
   ]
  },
  {
   "cell_type": "code",
   "execution_count": null,
   "id": "d27c856b",
   "metadata": {},
   "outputs": [],
   "source": [
    "CAPACITY = 100\n",
    "PUMP = 'big'\n",
    "MIC = 'mic1'\n",
    "\n",
    "data1 = data[data['capacity']==CAPACITY]\n",
    "data2 = data1[data1['pump'] == f'{PUMP}']\n",
    "\n",
    "data2.groupby(['type'])[MIC].plot.hist(alpha=0.5, legend=True, title=f'{MIC} for {PUMP} pump with capacity of {CAPACITY}% with respect to anomaly type', figsize=(8,4))\n",
    "plt.xlabel(f'{MIC}')"
   ]
  },
  {
   "cell_type": "code",
   "execution_count": null,
   "id": "aee6dfa9",
   "metadata": {},
   "outputs": [],
   "source": [
    "CAPACITY = 75\n",
    "PUMP = 'big'\n",
    "MIC = 'mic1'\n",
    "\n",
    "data1 = data[data['capacity']==CAPACITY]\n",
    "data2 = data1[data1['pump'] == f'{PUMP}']\n",
    "\n",
    "data2.groupby(['type'])[MIC].plot.hist(alpha=0.5, legend=True, title=f'{MIC} for {PUMP} pump with capacity of {CAPACITY}% with respect to anomaly type', figsize=(8,4))\n",
    "plt.xlabel(f'{MIC}')"
   ]
  },
  {
   "cell_type": "code",
   "execution_count": null,
   "id": "c2761b58",
   "metadata": {},
   "outputs": [],
   "source": [
    "CAPACITY = 50\n",
    "PUMP = 'big'\n",
    "MIC = 'mic1'\n",
    "\n",
    "data1 = data[data['capacity']==CAPACITY]\n",
    "data2 = data1[data1['pump'] == f'{PUMP}']\n",
    "\n",
    "data2.groupby(['type'])[MIC].plot.hist(alpha=0.5, legend=True, title=f'{MIC} for {PUMP} pump with capacity of {CAPACITY}% with respect to anomaly type', figsize=(8,4))\n",
    "plt.xlabel(f'{MIC}')"
   ]
  },
  {
   "cell_type": "code",
   "execution_count": null,
   "id": "be8fb85b",
   "metadata": {},
   "outputs": [],
   "source": [
    "CAPACITY = 100\n",
    "PUMP = 'big'\n",
    "MIC = 'mic2'\n",
    "\n",
    "data1 = data[data['capacity']==CAPACITY]\n",
    "data2 = data1[data1['pump'] == f'{PUMP}']\n",
    "\n",
    "data2.groupby(['type'])[MIC].plot.hist(alpha=0.5, legend=True, title=f'{MIC} for {PUMP} pump with capacity of {CAPACITY}% with respect to anomaly type', figsize=(8,4))\n",
    "plt.xlabel(f'{MIC}')"
   ]
  },
  {
   "cell_type": "code",
   "execution_count": null,
   "id": "084fe665",
   "metadata": {},
   "outputs": [],
   "source": [
    "CAPACITY = 75\n",
    "PUMP = 'big'\n",
    "MIC = 'mic2'\n",
    "\n",
    "data1 = data[data['capacity']==CAPACITY]\n",
    "data2 = data1[data1['pump'] == f'{PUMP}']\n",
    "\n",
    "data2.groupby(['type'])[MIC].plot.hist(alpha=0.5, legend=True, title=f'{MIC} for {PUMP} pump with capacity of {CAPACITY}% with respect to anomaly type', figsize=(8,4))\n",
    "plt.xlabel(f'{MIC}')"
   ]
  },
  {
   "cell_type": "code",
   "execution_count": null,
   "id": "a8fa841e",
   "metadata": {},
   "outputs": [],
   "source": [
    "CAPACITY = 50\n",
    "PUMP = 'big'\n",
    "MIC = 'mic2'\n",
    "\n",
    "data1 = data[data['capacity']==CAPACITY]\n",
    "data2 = data1[data1['pump'] == f'{PUMP}']\n",
    "\n",
    "data2.groupby(['type'])[MIC].plot.hist(alpha=0.5, legend=True, title=f'{MIC} for {PUMP} pump with capacity of {CAPACITY}% with respect to anomaly type', figsize=(8,4))\n",
    "plt.xlabel(f'{MIC}')"
   ]
  },
  {
   "cell_type": "markdown",
   "id": "8a907fa1",
   "metadata": {},
   "source": [
    "### The two above histograms show, as previusly stated, that in case of the big pump, anomaly type 3 could be easily detected as anomaly, because the readings of mic2 tend to be much larger as compared to the normal mode.\n",
    "\n",
    "#### In addition to this, in case of 50% capacity this is true for all anomalies, not only type 3 anomaly.\n",
    "\n"
   ]
  },
  {
   "cell_type": "markdown",
   "id": "60b8e93f",
   "metadata": {},
   "source": [
    "## Vibration analysis"
   ]
  },
  {
   "cell_type": "code",
   "execution_count": null,
   "id": "34bf1065",
   "metadata": {},
   "outputs": [],
   "source": [
    "# Define functions to plot histograms.\n",
    "\n",
    "def plot_histogram(GROUPING, PUMP, VALUE):\n",
    "\n",
    "    data[data['pump']==PUMP].groupby([GROUPING])[VALUE].plot.hist(alpha=0.5, legend=True, title=f'{VALUE} distribution for {PUMP} pump with respect to {GROUPING}', figsize=(8,4))\n",
    "    plt.xlabel(f'{VALUE}')\n",
    "    \n",
    "    return\n",
    "\n",
    "def plot_histogram_capacity(GROUPING, PUMP, VALUE, CAPACITY):\n",
    "    \n",
    "    data1 = data[data['capacity']==CAPACITY]\n",
    "    data2 = data1[data1['pump'] == f'{PUMP}']\n",
    "\n",
    "    data2.groupby([GROUPING])[VALUE].plot.hist(alpha=0.5, legend=True, title=f'{VALUE} distribution for {PUMP} pump with capacity of {CAPACITY}% with respect to {GROUPING}', figsize=(8,4), bins=[x / 5 for x in range(int(min(data[VALUE])),int(max(data[VALUE])*5))])\n",
    "    plt.xlabel(f'{VALUE}')\n",
    "    \n",
    "    return\n",
    "    "
   ]
  },
  {
   "cell_type": "code",
   "execution_count": null,
   "id": "bfbd8dfc",
   "metadata": {},
   "outputs": [],
   "source": [
    "plot_histogram('type', 'small', 'vib1_x')"
   ]
  },
  {
   "cell_type": "code",
   "execution_count": null,
   "id": "b6ee048d",
   "metadata": {},
   "outputs": [],
   "source": [
    "plot_histogram('type', 'small', 'vib1_y')"
   ]
  },
  {
   "cell_type": "code",
   "execution_count": null,
   "id": "ca1180ab",
   "metadata": {},
   "outputs": [],
   "source": [
    "plot_histogram('type', 'small', 'vib1_z')"
   ]
  },
  {
   "cell_type": "code",
   "execution_count": null,
   "id": "1aea7a6a",
   "metadata": {},
   "outputs": [],
   "source": [
    "plot_histogram('type', 'small', 'vib2_x')"
   ]
  },
  {
   "cell_type": "code",
   "execution_count": null,
   "id": "c4989280",
   "metadata": {},
   "outputs": [],
   "source": [
    "plot_histogram('type', 'small', 'vib2_y')"
   ]
  },
  {
   "cell_type": "code",
   "execution_count": null,
   "id": "136d65d9",
   "metadata": {},
   "outputs": [],
   "source": [
    "plot_histogram('type', 'small', 'vib2_z')"
   ]
  },
  {
   "cell_type": "markdown",
   "id": "c84e2bd5",
   "metadata": {},
   "source": [
    "#### The above histogram shows that in case of small pump the type 2 anomaly should be easily detected with vib2_z."
   ]
  },
  {
   "cell_type": "code",
   "execution_count": null,
   "id": "d1df1a85",
   "metadata": {},
   "outputs": [],
   "source": [
    "plot_histogram('type', 'small', 'vib1_magnitude')"
   ]
  },
  {
   "cell_type": "code",
   "execution_count": null,
   "id": "768aca75",
   "metadata": {},
   "outputs": [],
   "source": [
    "plot_histogram('type', 'small', 'vib2_magnitude')"
   ]
  },
  {
   "cell_type": "code",
   "execution_count": null,
   "id": "fccd6c06",
   "metadata": {},
   "outputs": [],
   "source": [
    "plot_histogram('type', 'big', 'vib1_x')"
   ]
  },
  {
   "cell_type": "markdown",
   "id": "a0b62cb1",
   "metadata": {},
   "source": [
    "#### The above histogram shows that in case of the big pump the type 3 anomaly should be easily detected as anomaly with vib1_x."
   ]
  },
  {
   "cell_type": "code",
   "execution_count": null,
   "id": "fbbd707b",
   "metadata": {},
   "outputs": [],
   "source": [
    "plot_histogram('type', 'big', 'vib1_y')"
   ]
  },
  {
   "cell_type": "markdown",
   "id": "785c2624",
   "metadata": {},
   "source": [
    "### The above histogram shows that in case of the big pump all 3 types of anomalies should be detected with vib1_y."
   ]
  },
  {
   "cell_type": "code",
   "execution_count": null,
   "id": "552c43a9",
   "metadata": {},
   "outputs": [],
   "source": [
    "plot_histogram('type', 'big', 'vib1_z')"
   ]
  },
  {
   "cell_type": "code",
   "execution_count": null,
   "id": "4d8c8c26",
   "metadata": {},
   "outputs": [],
   "source": [
    "plot_histogram('type', 'big', 'vib2_x')"
   ]
  },
  {
   "cell_type": "code",
   "execution_count": null,
   "id": "4deba4d8",
   "metadata": {},
   "outputs": [],
   "source": [
    "plot_histogram('type', 'big', 'vib2_y')"
   ]
  },
  {
   "cell_type": "code",
   "execution_count": null,
   "id": "fadc3c91",
   "metadata": {},
   "outputs": [],
   "source": [
    "plot_histogram('type', 'big', 'vib2_z')"
   ]
  },
  {
   "cell_type": "code",
   "execution_count": null,
   "id": "ba986128",
   "metadata": {},
   "outputs": [],
   "source": [
    "plot_histogram('type', 'big', 'vib1_magnitude')"
   ]
  },
  {
   "cell_type": "markdown",
   "id": "fdd48a3b",
   "metadata": {},
   "source": [
    "#### Vib1_magnitude could be used to detect anomaly type 3 for the big pump"
   ]
  },
  {
   "cell_type": "code",
   "execution_count": null,
   "id": "9a228184",
   "metadata": {},
   "outputs": [],
   "source": [
    "plot_histogram('type', 'big', 'vib2_magnitude')"
   ]
  },
  {
   "cell_type": "code",
   "execution_count": null,
   "id": "b2c9c8be",
   "metadata": {},
   "outputs": [],
   "source": [
    "plot_histogram_capacity('type', 'small', 'vib1_x', 100)"
   ]
  },
  {
   "cell_type": "code",
   "execution_count": null,
   "id": "96d83725",
   "metadata": {},
   "outputs": [],
   "source": [
    "plot_histogram_capacity('type', 'small', 'vib1_x', 75)"
   ]
  },
  {
   "cell_type": "code",
   "execution_count": null,
   "id": "1f66b6d5",
   "metadata": {},
   "outputs": [],
   "source": [
    "plot_histogram_capacity('type', 'small', 'vib1_x', 50)"
   ]
  },
  {
   "cell_type": "markdown",
   "id": "3ff5ae29",
   "metadata": {},
   "source": [
    "### It was not visible on the histogram that did not take capacity into account, but the three above clearly show that for the small pump type 2 anomaly can be detected with vib1_x. Id addition to this, in case of 50% capacity also type 1 anomaly can be detected."
   ]
  },
  {
   "cell_type": "code",
   "execution_count": null,
   "id": "3fc78190",
   "metadata": {},
   "outputs": [],
   "source": [
    "plot_histogram_capacity('type', 'small', 'vib1_y', 100)"
   ]
  },
  {
   "cell_type": "code",
   "execution_count": null,
   "id": "a50dd678",
   "metadata": {},
   "outputs": [],
   "source": [
    "plot_histogram_capacity('type', 'small', 'vib1_y', 75)"
   ]
  },
  {
   "cell_type": "code",
   "execution_count": null,
   "id": "f3d8f1e9",
   "metadata": {},
   "outputs": [],
   "source": [
    "plot_histogram_capacity('type', 'small', 'vib1_y', 50)"
   ]
  },
  {
   "cell_type": "markdown",
   "id": "c7acb5b5",
   "metadata": {},
   "source": [
    "#### In case of the small pump type 2 anomaly should be detected with vib1_y at 100% capacity and type 1 anomaly should be detected at 75% capacity."
   ]
  },
  {
   "cell_type": "code",
   "execution_count": null,
   "id": "484bd5f8",
   "metadata": {},
   "outputs": [],
   "source": [
    "plot_histogram_capacity('type', 'small', 'vib1_z', 100)"
   ]
  },
  {
   "cell_type": "code",
   "execution_count": null,
   "id": "6923f38e",
   "metadata": {},
   "outputs": [],
   "source": [
    "plot_histogram_capacity('type', 'small', 'vib1_z', 75)"
   ]
  },
  {
   "cell_type": "code",
   "execution_count": null,
   "id": "e3c24a77",
   "metadata": {},
   "outputs": [],
   "source": [
    "plot_histogram_capacity('type', 'small', 'vib1_z', 50)"
   ]
  },
  {
   "cell_type": "markdown",
   "id": "3d3b939c",
   "metadata": {},
   "source": [
    "#### In case of the small pump type 2 anomaly should be detected with vib1_z at 100% and 50% capacity and type 1 anomaly should be detected at 75% capacity."
   ]
  },
  {
   "cell_type": "code",
   "execution_count": null,
   "id": "eb08e2b0",
   "metadata": {},
   "outputs": [],
   "source": [
    "plot_histogram_capacity('type', 'small', 'vib2_x', 100)"
   ]
  },
  {
   "cell_type": "code",
   "execution_count": null,
   "id": "538f7e56",
   "metadata": {},
   "outputs": [],
   "source": [
    "plot_histogram_capacity('type', 'small', 'vib2_x', 75)"
   ]
  },
  {
   "cell_type": "code",
   "execution_count": null,
   "id": "9f0170e2",
   "metadata": {},
   "outputs": [],
   "source": [
    "plot_histogram_capacity('type', 'small', 'vib2_x', 50)"
   ]
  },
  {
   "cell_type": "markdown",
   "id": "e8c1ec2a",
   "metadata": {},
   "source": [
    "#### In case of the small pump type 2 anomaly should be detected with vib2_x at 100% and 75% capacity."
   ]
  },
  {
   "cell_type": "code",
   "execution_count": null,
   "id": "661a72b8",
   "metadata": {},
   "outputs": [],
   "source": [
    "plot_histogram_capacity('type', 'small', 'vib2_y', 100)"
   ]
  },
  {
   "cell_type": "code",
   "execution_count": null,
   "id": "bb938369",
   "metadata": {},
   "outputs": [],
   "source": [
    "plot_histogram_capacity('type', 'small', 'vib2_y', 75)"
   ]
  },
  {
   "cell_type": "code",
   "execution_count": null,
   "id": "a52b3a26",
   "metadata": {},
   "outputs": [],
   "source": []
  },
  {
   "cell_type": "code",
   "execution_count": null,
   "id": "f61aef73",
   "metadata": {},
   "outputs": [],
   "source": [
    "plot_histogram_capacity('type', 'small', 'vib2_y', 50)"
   ]
  },
  {
   "cell_type": "code",
   "execution_count": null,
   "id": "a1f891b0",
   "metadata": {},
   "outputs": [],
   "source": [
    "plot_histogram_capacity('type', 'small', 'vib1_magnitude', 100)"
   ]
  },
  {
   "cell_type": "code",
   "execution_count": null,
   "id": "f6deb553",
   "metadata": {},
   "outputs": [],
   "source": [
    "plot_histogram_capacity('type', 'small', 'vib1_magnitude', 75)"
   ]
  },
  {
   "cell_type": "code",
   "execution_count": null,
   "id": "547cce3a",
   "metadata": {},
   "outputs": [],
   "source": [
    "plot_histogram_capacity('type', 'small', 'vib1_magnitude', 50)"
   ]
  },
  {
   "cell_type": "code",
   "execution_count": null,
   "id": "c7707b56",
   "metadata": {},
   "outputs": [],
   "source": [
    "plot_histogram_capacity('type', 'small', 'vib2_magnitude', 100)"
   ]
  },
  {
   "cell_type": "code",
   "execution_count": null,
   "id": "a49cd632",
   "metadata": {},
   "outputs": [],
   "source": [
    "plot_histogram_capacity('type', 'small', 'vib2_magnitude', 75)"
   ]
  },
  {
   "cell_type": "code",
   "execution_count": null,
   "id": "6aa535c2",
   "metadata": {},
   "outputs": [],
   "source": [
    "plot_histogram_capacity('type', 'small', 'vib2_magnitude', 50)"
   ]
  },
  {
   "cell_type": "code",
   "execution_count": null,
   "id": "988652cd",
   "metadata": {},
   "outputs": [],
   "source": []
  },
  {
   "cell_type": "code",
   "execution_count": null,
   "id": "0469aa2e",
   "metadata": {},
   "outputs": [],
   "source": []
  },
  {
   "cell_type": "code",
   "execution_count": null,
   "id": "32d9a65f",
   "metadata": {},
   "outputs": [],
   "source": [
    "plot_histogram_capacity('type', 'small', 'vib2_z', 100)"
   ]
  },
  {
   "cell_type": "code",
   "execution_count": null,
   "id": "bb5ec7eb",
   "metadata": {},
   "outputs": [],
   "source": [
    "plot_histogram_capacity('type', 'small', 'vib2_z', 75)"
   ]
  },
  {
   "cell_type": "code",
   "execution_count": null,
   "id": "45b6d932",
   "metadata": {},
   "outputs": [],
   "source": [
    "plot_histogram_capacity('type', 'small', 'vib2_z', 50)"
   ]
  },
  {
   "cell_type": "markdown",
   "id": "4636feeb",
   "metadata": {},
   "source": [
    "#### The 3 above show what was shown previously that in case of small pump the type 2 anomaly should be easily detected with vib2_z."
   ]
  },
  {
   "cell_type": "code",
   "execution_count": null,
   "id": "2a3179da",
   "metadata": {},
   "outputs": [],
   "source": [
    "plot_histogram_capacity('type', 'big', 'vib1_x', 100)"
   ]
  },
  {
   "cell_type": "code",
   "execution_count": null,
   "id": "f1cdb4e7",
   "metadata": {},
   "outputs": [],
   "source": [
    "plot_histogram_capacity('type', 'big', 'vib1_x', 75)"
   ]
  },
  {
   "cell_type": "code",
   "execution_count": null,
   "id": "77c8e5a4",
   "metadata": {},
   "outputs": [],
   "source": [
    "plot_histogram_capacity('type', 'big', 'vib1_x', 50)"
   ]
  },
  {
   "cell_type": "markdown",
   "id": "73a352da",
   "metadata": {},
   "source": [
    "#### In case of the big pump type 3 anomalies can be detected with vib1_x for all capacities. Type 2 anomalies can be  detected for 100% and 50% capacities and type 1 anomalies can be detected fot 50% capacity."
   ]
  },
  {
   "cell_type": "code",
   "execution_count": null,
   "id": "41f94992",
   "metadata": {},
   "outputs": [],
   "source": [
    "plot_histogram_capacity('type', 'big', 'vib1_y', 100)"
   ]
  },
  {
   "cell_type": "code",
   "execution_count": null,
   "id": "18258417",
   "metadata": {},
   "outputs": [],
   "source": [
    "plot_histogram_capacity('type', 'big', 'vib1_y', 75)"
   ]
  },
  {
   "cell_type": "code",
   "execution_count": null,
   "id": "07774aea",
   "metadata": {},
   "outputs": [],
   "source": [
    "plot_histogram_capacity('type', 'big', 'vib1_y', 50)"
   ]
  },
  {
   "cell_type": "markdown",
   "id": "86ded44a",
   "metadata": {},
   "source": [
    "#### All 3 types of anomalies can be detected for the big pump at all capacities with vib1_y."
   ]
  },
  {
   "cell_type": "code",
   "execution_count": null,
   "id": "8e4f62db",
   "metadata": {},
   "outputs": [],
   "source": [
    "plot_histogram_capacity('type', 'big', 'vib1_z', 100)"
   ]
  },
  {
   "cell_type": "code",
   "execution_count": null,
   "id": "a49c70ff",
   "metadata": {},
   "outputs": [],
   "source": [
    "plot_histogram_capacity('type', 'big', 'vib1_z', 75)"
   ]
  },
  {
   "cell_type": "code",
   "execution_count": null,
   "id": "b99e394e",
   "metadata": {},
   "outputs": [],
   "source": [
    "plot_histogram_capacity('type', 'big', 'vib1_z', 50)"
   ]
  },
  {
   "cell_type": "markdown",
   "id": "1b5c9388",
   "metadata": {},
   "source": [
    "#### In case of the big pump type 1 anomalies can be detected with vib1_z at 75% and 50% capacities. Type 2 anomalies can be detected for 100% and 50% capacities and type 3 anomalies can be detected for all capacities."
   ]
  },
  {
   "cell_type": "code",
   "execution_count": null,
   "id": "72f1b711",
   "metadata": {},
   "outputs": [],
   "source": [
    "plot_histogram_capacity('type', 'big', 'vib2_x', 100)"
   ]
  },
  {
   "cell_type": "code",
   "execution_count": null,
   "id": "f2907133",
   "metadata": {},
   "outputs": [],
   "source": [
    "plot_histogram_capacity('type', 'big', 'vib2_x', 75)"
   ]
  },
  {
   "cell_type": "code",
   "execution_count": null,
   "id": "b7ba5699",
   "metadata": {},
   "outputs": [],
   "source": [
    "plot_histogram_capacity('type', 'big', 'vib2_x', 50)"
   ]
  },
  {
   "cell_type": "code",
   "execution_count": null,
   "id": "e4b4247c",
   "metadata": {},
   "outputs": [],
   "source": [
    "plot_histogram_capacity('type', 'big', 'vib2_y', 100)"
   ]
  },
  {
   "cell_type": "code",
   "execution_count": null,
   "id": "93288f63",
   "metadata": {},
   "outputs": [],
   "source": [
    "plot_histogram_capacity('type', 'big', 'vib2_y', 75)"
   ]
  },
  {
   "cell_type": "code",
   "execution_count": null,
   "id": "50fec77b",
   "metadata": {},
   "outputs": [],
   "source": [
    "plot_histogram_capacity('type', 'big', 'vib2_y', 50)"
   ]
  },
  {
   "cell_type": "code",
   "execution_count": null,
   "id": "8607b712",
   "metadata": {},
   "outputs": [],
   "source": [
    "plot_histogram_capacity('type', 'big', 'vib2_z', 100)"
   ]
  },
  {
   "cell_type": "code",
   "execution_count": null,
   "id": "b6451fc9",
   "metadata": {},
   "outputs": [],
   "source": [
    "plot_histogram_capacity('type', 'big', 'vib2_z', 75)"
   ]
  },
  {
   "cell_type": "code",
   "execution_count": null,
   "id": "956612ec",
   "metadata": {},
   "outputs": [],
   "source": [
    "plot_histogram_capacity('type', 'big', 'vib2_z', 50)"
   ]
  },
  {
   "cell_type": "markdown",
   "id": "ba23d3c7",
   "metadata": {},
   "source": [
    "#### Type 2 anomaly can be detected for the big pump at 100% and 50% capacity with vib2-z. Moreover, type 3 anomaly can be detected for capacity of 50%."
   ]
  },
  {
   "cell_type": "code",
   "execution_count": null,
   "id": "732b779a",
   "metadata": {},
   "outputs": [],
   "source": [
    "plot_histogram_capacity('type', 'big', 'vib1_magnitude', 100)"
   ]
  },
  {
   "cell_type": "code",
   "execution_count": null,
   "id": "39831305",
   "metadata": {},
   "outputs": [],
   "source": [
    "plot_histogram_capacity('type', 'big', 'vib1_magnitude', 75)"
   ]
  },
  {
   "cell_type": "code",
   "execution_count": null,
   "id": "758c0822",
   "metadata": {},
   "outputs": [],
   "source": [
    "plot_histogram_capacity('type', 'big', 'vib1_magnitude', 50)"
   ]
  },
  {
   "cell_type": "code",
   "execution_count": null,
   "id": "7e46c06f",
   "metadata": {},
   "outputs": [],
   "source": [
    "plot_histogram_capacity('type', 'big', 'vib2_magnitude', 100)"
   ]
  },
  {
   "cell_type": "code",
   "execution_count": null,
   "id": "60f0bd61",
   "metadata": {},
   "outputs": [],
   "source": [
    "plot_histogram_capacity('type', 'big', 'vib2_magnitude', 75)"
   ]
  },
  {
   "cell_type": "code",
   "execution_count": null,
   "id": "8b4dc75d",
   "metadata": {},
   "outputs": [],
   "source": [
    "plot_histogram_capacity('type', 'big', 'vib2_magnitude', 50)"
   ]
  },
  {
   "cell_type": "markdown",
   "id": "3bcaccb7",
   "metadata": {},
   "source": [
    "## Analysis of the normal mode values"
   ]
  },
  {
   "cell_type": "code",
   "execution_count": null,
   "id": "296296d7",
   "metadata": {},
   "outputs": [],
   "source": [
    "data_norm = data[data['anomaly']=='normal']\n",
    "\n",
    "def plot_histogram_norm(VALUE, PUMP):\n",
    "\n",
    "    data_norm[data_norm['pump']==PUMP].groupby(['capacity'])[VALUE].plot.hist(alpha=0.5, legend=True, title=f'{VALUE} distribution for {PUMP} pump with respect to its capacity', figsize=(8,4), bins=[x / 5 for x in range(int(min(data[VALUE])),int(max(data[VALUE])*5))])\n",
    "    plt.xlabel(f'{VALUE}')\n",
    "    \n",
    "    return\n",
    "\n",
    "def plot_histogram_norm_1(VALUE, CAPACITY):\n",
    "\n",
    "    data_norm[data_norm['capacity']==CAPACITY].groupby(['pump'])[VALUE].plot.hist(alpha=0.5, legend=True, title=f'{VALUE} distribution for capacity of {CAPACITY}% with respect to pump type', figsize=(8,4), bins=[x / 25 for x in range(13,30)])\n",
    "    plt.xlabel(f'{VALUE}')\n",
    "    \n",
    "    return"
   ]
  },
  {
   "cell_type": "code",
   "execution_count": null,
   "id": "5c8a5a8e",
   "metadata": {},
   "outputs": [],
   "source": [
    "plot_histogram_norm('vib1_x', 'small')"
   ]
  },
  {
   "cell_type": "code",
   "execution_count": null,
   "id": "74614c88",
   "metadata": {},
   "outputs": [],
   "source": [
    "plot_histogram_norm('vib1_y', 'small')"
   ]
  },
  {
   "cell_type": "code",
   "execution_count": null,
   "id": "7d2a313f",
   "metadata": {},
   "outputs": [],
   "source": [
    "plot_histogram_norm('vib1_z', 'small')"
   ]
  },
  {
   "cell_type": "code",
   "execution_count": null,
   "id": "e218792f",
   "metadata": {},
   "outputs": [],
   "source": [
    "plot_histogram_norm('vib2_x', 'small')"
   ]
  },
  {
   "cell_type": "code",
   "execution_count": null,
   "id": "08478974",
   "metadata": {},
   "outputs": [],
   "source": [
    "plot_histogram_norm('vib2_y', 'small')"
   ]
  },
  {
   "cell_type": "code",
   "execution_count": null,
   "id": "e89ffcbf",
   "metadata": {},
   "outputs": [],
   "source": [
    "plot_histogram_norm('vib2_z', 'small')"
   ]
  },
  {
   "cell_type": "code",
   "execution_count": null,
   "id": "e07655e4",
   "metadata": {},
   "outputs": [],
   "source": [
    "plot_histogram_norm('vib1_x', 'big')"
   ]
  },
  {
   "cell_type": "code",
   "execution_count": null,
   "id": "e7032c9f",
   "metadata": {},
   "outputs": [],
   "source": [
    "plot_histogram_norm('vib1_y', 'big')"
   ]
  },
  {
   "cell_type": "code",
   "execution_count": null,
   "id": "1770693a",
   "metadata": {},
   "outputs": [],
   "source": [
    "plot_histogram_norm('vib1_z', 'big')"
   ]
  },
  {
   "cell_type": "code",
   "execution_count": null,
   "id": "00159f11",
   "metadata": {},
   "outputs": [],
   "source": [
    "plot_histogram_norm('vib2_x', 'big')"
   ]
  },
  {
   "cell_type": "code",
   "execution_count": null,
   "id": "066e3881",
   "metadata": {},
   "outputs": [],
   "source": [
    "plot_histogram_norm('vib2_y', 'big')"
   ]
  },
  {
   "cell_type": "code",
   "execution_count": null,
   "id": "ab54b760",
   "metadata": {},
   "outputs": [],
   "source": [
    "plot_histogram_norm('vib2_z', 'big')"
   ]
  },
  {
   "cell_type": "markdown",
   "id": "d87112ce",
   "metadata": {},
   "source": [
    "#### Vibrations for the small pump seem to be dependent on the capacity of the pumps, whereas, such a dependency cannot be found for the big pump. It seems that the capacity of 75% might be the most problematic, since the histogram is the widest."
   ]
  },
  {
   "cell_type": "code",
   "execution_count": null,
   "id": "e87b976d",
   "metadata": {},
   "outputs": [],
   "source": [
    "plot_histogram_norm('mic1', 'small')"
   ]
  },
  {
   "cell_type": "code",
   "execution_count": null,
   "id": "d031e73b",
   "metadata": {},
   "outputs": [],
   "source": [
    "plot_histogram_norm('mic2', 'small')"
   ]
  },
  {
   "cell_type": "code",
   "execution_count": null,
   "id": "ba2fbbfd",
   "metadata": {},
   "outputs": [],
   "source": [
    "plot_histogram_norm('mic1', 'big')"
   ]
  },
  {
   "cell_type": "code",
   "execution_count": null,
   "id": "9771763b",
   "metadata": {},
   "outputs": [],
   "source": [
    "plot_histogram_norm('mic2', 'big')"
   ]
  },
  {
   "cell_type": "markdown",
   "id": "350e09af",
   "metadata": {},
   "source": [
    "#### Similar conclusions as for the vibrations can be drawn for the microphones."
   ]
  },
  {
   "cell_type": "code",
   "execution_count": null,
   "id": "f6b601d5",
   "metadata": {},
   "outputs": [],
   "source": [
    "plot_histogram_norm('amp1', 'small')"
   ]
  },
  {
   "cell_type": "code",
   "execution_count": null,
   "id": "64172ea6",
   "metadata": {},
   "outputs": [],
   "source": [
    "plot_histogram_norm('amp2', 'big')"
   ]
  },
  {
   "cell_type": "code",
   "execution_count": null,
   "id": "e4059ffb",
   "metadata": {},
   "outputs": [],
   "source": [
    "plot_histogram_norm_1('vib1_x', 100)"
   ]
  },
  {
   "cell_type": "code",
   "execution_count": null,
   "id": "403267d6",
   "metadata": {},
   "outputs": [],
   "source": [
    "plot_histogram_norm_1('vib1_x', 75)"
   ]
  },
  {
   "cell_type": "code",
   "execution_count": null,
   "id": "63545253",
   "metadata": {},
   "outputs": [],
   "source": [
    "plot_histogram_norm_1('vib1_x', 50)"
   ]
  },
  {
   "cell_type": "code",
   "execution_count": null,
   "id": "ccaa2b46",
   "metadata": {},
   "outputs": [],
   "source": [
    "plot_histogram_norm_1('vib1_y', 100)"
   ]
  },
  {
   "cell_type": "code",
   "execution_count": null,
   "id": "d7439f89",
   "metadata": {},
   "outputs": [],
   "source": [
    "plot_histogram_norm_1('vib1_y', 75)"
   ]
  },
  {
   "cell_type": "code",
   "execution_count": null,
   "id": "80921653",
   "metadata": {},
   "outputs": [],
   "source": [
    "plot_histogram_norm_1('vib1_y', 50)"
   ]
  },
  {
   "cell_type": "code",
   "execution_count": null,
   "id": "a17637ea",
   "metadata": {},
   "outputs": [],
   "source": [
    "plot_histogram_norm_1('vib1_z', 100)"
   ]
  },
  {
   "cell_type": "code",
   "execution_count": null,
   "id": "af2a04fc",
   "metadata": {},
   "outputs": [],
   "source": [
    "plot_histogram_norm_1('vib1_z', 75)"
   ]
  },
  {
   "cell_type": "code",
   "execution_count": null,
   "id": "65cb2adc",
   "metadata": {},
   "outputs": [],
   "source": [
    "plot_histogram_norm_1('vib1_x', 50)"
   ]
  },
  {
   "cell_type": "code",
   "execution_count": null,
   "id": "23a1e9ed",
   "metadata": {},
   "outputs": [],
   "source": [
    "plot_histogram_norm_1('vib2_x', 100)"
   ]
  },
  {
   "cell_type": "code",
   "execution_count": null,
   "id": "bc642cd7",
   "metadata": {},
   "outputs": [],
   "source": [
    "plot_histogram_norm_1('vib2_x', 75)"
   ]
  },
  {
   "cell_type": "code",
   "execution_count": null,
   "id": "6a9097fb",
   "metadata": {},
   "outputs": [],
   "source": [
    "plot_histogram_norm_1('vib2_x', 50)"
   ]
  },
  {
   "cell_type": "code",
   "execution_count": null,
   "id": "5a64d78d",
   "metadata": {},
   "outputs": [],
   "source": [
    "plot_histogram_norm_1('vib2_y', 100)"
   ]
  },
  {
   "cell_type": "code",
   "execution_count": null,
   "id": "ed064ca1",
   "metadata": {},
   "outputs": [],
   "source": [
    "plot_histogram_norm_1('vib2_y', 75)"
   ]
  },
  {
   "cell_type": "code",
   "execution_count": null,
   "id": "6bba4a28",
   "metadata": {},
   "outputs": [],
   "source": [
    "plot_histogram_norm_1('vib2_y', 50)"
   ]
  },
  {
   "cell_type": "code",
   "execution_count": null,
   "id": "32c9ab42",
   "metadata": {},
   "outputs": [],
   "source": [
    "plot_histogram_norm_1('vib2_z', 100)"
   ]
  },
  {
   "cell_type": "code",
   "execution_count": null,
   "id": "3cf280b1",
   "metadata": {},
   "outputs": [],
   "source": [
    "plot_histogram_norm_1('vib2_z', 75)"
   ]
  },
  {
   "cell_type": "code",
   "execution_count": null,
   "id": "8db691e8",
   "metadata": {},
   "outputs": [],
   "source": [
    "plot_histogram_norm_1('vib2_z', 50)"
   ]
  },
  {
   "cell_type": "code",
   "execution_count": null,
   "id": "4a6caceb",
   "metadata": {},
   "outputs": [],
   "source": [
    "plot_histogram_norm_1('mic1', 100)"
   ]
  },
  {
   "cell_type": "code",
   "execution_count": null,
   "id": "d2cfcd4d",
   "metadata": {},
   "outputs": [],
   "source": [
    "plot_histogram_norm_1('mic1', 75)"
   ]
  },
  {
   "cell_type": "code",
   "execution_count": null,
   "id": "285cb23f",
   "metadata": {},
   "outputs": [],
   "source": [
    "plot_histogram_norm_1('mic1', 50)"
   ]
  },
  {
   "cell_type": "code",
   "execution_count": null,
   "id": "abdbec61",
   "metadata": {},
   "outputs": [],
   "source": [
    "plot_histogram_norm_1('mic2', 100)"
   ]
  },
  {
   "cell_type": "code",
   "execution_count": null,
   "id": "fa987516",
   "metadata": {},
   "outputs": [],
   "source": [
    "plot_histogram_norm_1('mic2', 75)"
   ]
  },
  {
   "cell_type": "code",
   "execution_count": null,
   "id": "b195ab6c",
   "metadata": {},
   "outputs": [],
   "source": [
    "plot_histogram_norm_1('mic2', 50)"
   ]
  },
  {
   "cell_type": "markdown",
   "id": "82026648",
   "metadata": {},
   "source": [
    "#### All the histograms show that the behaviour of the 2 pump types is extremely different, thus they should be considered separately."
   ]
  },
  {
   "cell_type": "code",
   "execution_count": null,
   "id": "ee9b1b78",
   "metadata": {},
   "outputs": [],
   "source": [
    "data.groupby(['pump', 'capacity', 'type']).size()"
   ]
  },
  {
   "cell_type": "code",
   "execution_count": null,
   "id": "c5f8848f",
   "metadata": {},
   "outputs": [],
   "source": [
    "CAPACITY = 100\n",
    "VALUE = 'vib1_x'\n",
    "\n",
    "data_norm[data_norm['capacity']==CAPACITY].groupby(['pump'])[VALUE].plot.hist(alpha=0.5, legend=True, title=f'{VALUE} distribution for capacity of {CAPACITY}% with respect to pump type', figsize=(8,4), bins=[x / 25 for x in range(13,30)])\n",
    "plt.xlabel(f'{VALUE}')"
   ]
  },
  {
   "cell_type": "code",
   "execution_count": null,
   "id": "c5059b20",
   "metadata": {},
   "outputs": [],
   "source": []
  }
 ],
 "metadata": {
  "interpreter": {
   "hash": "c24198d639ca3b0e81c67ed50f110552efc9c91eba254b3c7b63a24c6c56579d"
  },
  "kernelspec": {
   "display_name": "Python 3",
   "language": "python",
   "name": "python3"
  },
  "language_info": {
   "codemirror_mode": {
    "name": "ipython",
    "version": 3
   },
   "file_extension": ".py",
   "mimetype": "text/x-python",
   "name": "python",
   "nbconvert_exporter": "python",
   "pygments_lexer": "ipython3",
   "version": "3.8.8"
  }
 },
 "nbformat": 4,
 "nbformat_minor": 5
}
