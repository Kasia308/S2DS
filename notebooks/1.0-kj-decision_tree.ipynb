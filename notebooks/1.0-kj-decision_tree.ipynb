{
 "cells": [
  {
   "cell_type": "code",
   "execution_count": null,
   "id": "ccf9562f",
   "metadata": {},
   "outputs": [],
   "source": [
    "import pandas as pd\n",
    "import numpy as np\n",
    "import matplotlib.pyplot as plt\n",
    "\n",
    "from sklearn.model_selection import train_test_split, GridSearchCV\n",
    "from sklearn.tree import DecisionTreeClassifier\n",
    "from sklearn.feature_extraction import DictVectorizer\n",
    "from sklearn.metrics import roc_auc_score, mean_squared_error, r2_score, accuracy_score, confusion_matrix, classification_report, plot_confusion_matrix\n",
    "from sklearn.model_selection import cross_val_score\n",
    "from sklearn.model_selection import ShuffleSplit\n",
    "from sklearn import tree\n",
    "\n",
    "pd.set_option(\"display.max.columns\", None)\n",
    "pd.set_option(\"display.max_rows\", None)"
   ]
  },
  {
   "cell_type": "code",
   "execution_count": null,
   "id": "59445e15",
   "metadata": {},
   "outputs": [],
   "source": [
    "#read in the data\n",
    "\n",
    "data = pd.read_csv('../data/clean_data.csv')\n",
    "data.columns"
   ]
  },
  {
   "cell_type": "markdown",
   "id": "52e6589e",
   "metadata": {},
   "source": [
    "## Define a function running the model"
   ]
  },
  {
   "cell_type": "code",
   "execution_count": null,
   "id": "827b41fc",
   "metadata": {},
   "outputs": [],
   "source": [
    "def run_decision_tree(DROP_LIST, VALUE, FEATURES):\n",
    "    \n",
    "#function training the decision tree model and giving some basic statistics\n",
    "\n",
    "# DROP_LIST - columns to be dropped from original dataframe\n",
    "# VALUE - target of the model\n",
    "# FEATURES - features of the model\n",
    "#it's important that FEATURES are in the same order as in the data!!!\n",
    "\n",
    "    #drop the columns we don't need\n",
    "    df = data.drop(DROP_LIST, axis=1)\n",
    "    \n",
    "    #define features and value\n",
    "    X = df.drop(VALUE, axis=1)\n",
    "    y = df[VALUE]\n",
    "    \n",
    "    #create train and test datasets\n",
    "    X_train, X_val, y_train, y_val = train_test_split(X, y, test_size = 0.20, random_state = 100)\n",
    "    \n",
    "    #train the model\n",
    "    model = DecisionTreeClassifier(random_state = 100)\n",
    "    \n",
    "    model.fit(X_train,y_train)\n",
    "    \n",
    "    #calculate accuracy\n",
    "    predict_train = model.predict(X_train)\n",
    "    predict_val = model.predict(X_val)\n",
    "    accuracy_train = accuracy_score(y_train,predict_train)\n",
    "    print(\"Accuracies\")\n",
    "    print('accuracy_score on train dataset : ', accuracy_train)\n",
    "    accuracy_val = accuracy_score(y_val,predict_val)\n",
    "    print('accuracy_score on test dataset : ', accuracy_val)\n",
    "    print('\\n')\n",
    "    print('Depth of the Decision Tree :', model.get_depth())\n",
    "    print('\\n')\n",
    "    \n",
    "    \n",
    "    #calculate feature importances\n",
    "    importances = pd.DataFrame({'feature':X_train.columns,'importance':np.round(model.feature_importances_,3)})\n",
    "    importances = importances.sort_values('importance',ascending=False)\n",
    "    print('Importances')\n",
    "    print(importances)\n",
    "    print('\\n')  \n",
    "    \n",
    "    #print classification report\n",
    "    print('Classification report')\n",
    "    print(classification_report(y_val, predict_val))\n",
    "    print('\\n')\n",
    "    \n",
    "    #print normalized confusion matrix   \n",
    "    matrix = plot_confusion_matrix(model, X_val, y_val, cmap=plt.cm.Blues, normalize='true')\n",
    "    matrix.ax_.set_title('Confusion Matrix')\n",
    "    fig = plt.gcf()\n",
    "    fig.set_size_inches(7, 7)\n",
    "    plt.show()\n",
    "    \n",
    "    #draw the decision tree\n",
    "    plt.figure(figsize=(30,30))\n",
    "    tree.plot_tree(model, fontsize=8, feature_names = FEATURES)\n",
    "  \n",
    "    \n",
    "    \n",
    "    \n",
    "    return"
   ]
  },
  {
   "cell_type": "markdown",
   "id": "b135b660",
   "metadata": {},
   "source": [
    "## K-fold cross-validation - define function"
   ]
  },
  {
   "cell_type": "code",
   "execution_count": null,
   "id": "4946d3ad",
   "metadata": {},
   "outputs": [],
   "source": [
    "def validate_decision_tree(DROP_LIST, VALUE):\n",
    "\n",
    "#function running 10-fold cross validation for the decision tree\n",
    "\n",
    "# DROP_LIST - columns to be dropped from original dataframe\n",
    "# VALUE - target of the model\n",
    "\n",
    "    \n",
    "    #drop the columns we don't need\n",
    "    df = data.drop(DROP_LIST, axis=1)\n",
    "    \n",
    "    #define features and value\n",
    "    X = df.drop(VALUE, axis=1)\n",
    "    y = df[VALUE]\n",
    "    \n",
    "    #train the model\n",
    "    model = DecisionTreeClassifier(random_state = 100)\n",
    "\n",
    "    #perform cross validation\n",
    "    cv = ShuffleSplit(n_splits=10, test_size=0.2, random_state=100)\n",
    "    scores = cross_val_score(model, X, y, cv=cv, n_jobs=1)\n",
    " \n",
    "    print('Cross Validation accuracy scores: %s' % scores)\n",
    " \n",
    "    print('Cross Validation accuracy: %.3f +/- %.3f' % (np.mean(scores),np.std(scores)))\n",
    "    \n",
    "    return"
   ]
  },
  {
   "cell_type": "markdown",
   "id": "cab0ff21",
   "metadata": {},
   "source": [
    "## Decision Tree 1\n",
    "#### Features = 'capacity', 'vib1', 'vib2', 'amp_uni', 'mic1', 'mic2'\n",
    "#### Value = 'type_cat'"
   ]
  },
  {
   "cell_type": "code",
   "execution_count": null,
   "id": "8abb02b6",
   "metadata": {},
   "outputs": [],
   "source": [
    "drop_list1 = ['Unnamed: 0', 'type', 'capacity_cat', 'pump_cat',\n",
    "                'anomaly', 'anomaly_cat','anomaly_binary', 'datetime', 'date', 'time',\n",
    "                'vib1_x', 'vib1_y', 'vib1_z', 'vib2_x', 'vib2_y', 'vib2_z', 'amp1', 'amp2', 'pump', 'anomaly_binary_cat']\n",
    "\n",
    "run_decision_tree(drop_list1, 'type_cat', ['capacity', 'vib1', 'vib2', 'amp_uni', 'mic1', 'mic2'])"
   ]
  },
  {
   "cell_type": "code",
   "execution_count": null,
   "id": "6efed412",
   "metadata": {},
   "outputs": [],
   "source": [
    "validate_decision_tree(drop_list1, 'type_cat')"
   ]
  },
  {
   "cell_type": "markdown",
   "id": "3c8ad8dc",
   "metadata": {},
   "source": [
    "## Decision Tree 2\n",
    "#### Features = 'capacity', 'vib1_x', 'vib1_y', 'vib1_z', 'vib2_x', 'vib2_y', 'vib2_z', 'amp1', 'amp2', 'mic1', 'mic2'\n",
    "#### Value = 'type_cat'"
   ]
  },
  {
   "cell_type": "code",
   "execution_count": null,
   "id": "86ba3e38",
   "metadata": {},
   "outputs": [],
   "source": [
    "drop_list2 = ['Unnamed: 0', 'type', 'capacity_cat', 'pump_cat',\n",
    "                'anomaly', 'anomaly_cat','anomaly_binary', 'datetime', 'date', 'time', 'pump', 'anomaly_binary_cat', 'vib1', 'vib2', 'amp_uni']\n",
    "\n",
    "run_decision_tree(drop_list2, 'type_cat', ['capacity', 'vib1_x', 'vib1_y', 'vib1_z', 'vib2_x', 'vib2_y', 'vib2_z', 'amp1', 'amp2', 'mic1', 'mic2'])"
   ]
  },
  {
   "cell_type": "code",
   "execution_count": null,
   "id": "c7676d83",
   "metadata": {},
   "outputs": [],
   "source": [
    "validate_decision_tree(drop_list2, 'type_cat')"
   ]
  },
  {
   "cell_type": "markdown",
   "id": "efa19172",
   "metadata": {},
   "source": [
    "## Decision Tree 3\n",
    "#### Features = 'vib1',  'vib2', 'amp_uni', 'mic1', 'mic2'\n",
    "#### Value = 'type_cat'"
   ]
  },
  {
   "cell_type": "code",
   "execution_count": null,
   "id": "6aa95760",
   "metadata": {},
   "outputs": [],
   "source": [
    "drop_list3 = ['Unnamed: 0', 'type', 'capacity', 'capacity_cat', 'pump_cat',\n",
    "                'anomaly', 'anomaly_cat','anomaly_binary', 'datetime', 'date', 'time',\n",
    "                'vib1_x', 'vib1_y', 'vib1_z', 'vib2_x', 'vib2_y', 'vib2_z', 'amp1', 'amp2', 'pump', 'anomaly_binary_cat']\n",
    "\n",
    "run_decision_tree(drop_list3, 'type_cat', ['vib1', 'vib2', 'amp_uni', 'mic1', 'mic2'])"
   ]
  },
  {
   "cell_type": "code",
   "execution_count": null,
   "id": "c8588ce3",
   "metadata": {},
   "outputs": [],
   "source": [
    "validate_decision_tree(drop_list3, 'type_cat')"
   ]
  },
  {
   "cell_type": "markdown",
   "id": "9e8835fe",
   "metadata": {},
   "source": [
    "## Decision Tree 4\n",
    "#### Features = 'vib1_x', 'vib1_y', 'vib1_z', 'vib2_x', 'vib2_y', 'vib2_z', 'amp1', 'amp2', 'mic1', 'mic2'\n",
    "#### Value = 'type_cat'"
   ]
  },
  {
   "cell_type": "code",
   "execution_count": null,
   "id": "6f5f909a",
   "metadata": {},
   "outputs": [],
   "source": [
    "drop_list4 = ['Unnamed: 0', 'type', 'capacity', 'capacity_cat', 'pump_cat',\n",
    "                'anomaly', 'anomaly_cat','anomaly_binary', 'datetime', 'date', 'time', 'pump', 'anomaly_binary_cat', 'vib1', 'vib2', 'amp_uni']\n",
    "\n",
    "run_decision_tree(drop_list4, 'type_cat', ['vib1_x', 'vib1_y', 'vib1_z', 'vib2_x', 'vib2_y', 'vib2_z', 'amp1', 'amp2', 'mic1', 'mic2'])"
   ]
  },
  {
   "cell_type": "code",
   "execution_count": null,
   "id": "d8cc9393",
   "metadata": {},
   "outputs": [],
   "source": [
    "validate_decision_tree(drop_list4, 'type_cat')"
   ]
  },
  {
   "cell_type": "markdown",
   "id": "039a11f8",
   "metadata": {},
   "source": [
    "## Decision Tree 5\n",
    "#### Features = 'capacity', 'vib1', 'vib2', 'amp_uni', 'mic1', 'mic2'\n",
    "#### Value = 'anomaly-binary'"
   ]
  },
  {
   "cell_type": "code",
   "execution_count": null,
   "id": "cbd334f0",
   "metadata": {},
   "outputs": [],
   "source": [
    "drop_list5 = ['Unnamed: 0', 'type', 'type_cat', 'capacity_cat', 'pump_cat',\n",
    "                'anomaly', 'anomaly_cat', 'datetime', 'date', 'time',\n",
    "                'vib1_x', 'vib1_y', 'vib1_z', 'vib2_x', 'vib2_y', 'vib2_z', 'amp1', 'amp2', 'pump', 'anomaly_binary_cat']\n",
    "\n",
    "run_decision_tree(drop_list5, 'anomaly_binary', ['capacity', 'vib1', 'vib2', 'amp_uni', 'mic1', 'mic2'])"
   ]
  },
  {
   "cell_type": "code",
   "execution_count": null,
   "id": "5c639452",
   "metadata": {},
   "outputs": [],
   "source": [
    "validate_decision_tree(drop_list5, 'anomaly_binary')"
   ]
  },
  {
   "cell_type": "markdown",
   "id": "1e647cc9",
   "metadata": {},
   "source": [
    "## Decision Tree 6\n",
    "#### Features = 'capacity', 'vib1_x','vib1_y', 'vib1_z', 'vib2_x', 'vib2_y', 'vib2_z', 'amp1', 'amp2', 'mic1', 'mic2'\n",
    "#### Value = 'anomaly-binary'"
   ]
  },
  {
   "cell_type": "code",
   "execution_count": null,
   "id": "b61e6bc8",
   "metadata": {
    "scrolled": true
   },
   "outputs": [],
   "source": [
    "drop_list6 = ['Unnamed: 0', 'type', 'type_cat', 'capacity_cat', 'pump_cat',\n",
    "                'anomaly', 'anomaly_cat', 'datetime', 'date', 'time',\n",
    "                'vib1','vib2', 'amp_uni', 'pump', 'anomaly_binary_cat']\n",
    "\n",
    "run_decision_tree(drop_list6, 'anomaly_binary', ['capacity', 'vib1_x','vib1_y', 'vib1_z', 'vib2_x', 'vib2_y', 'vib2_z', 'amp1', 'amp2', 'mic1', 'mic2'])"
   ]
  },
  {
   "cell_type": "code",
   "execution_count": null,
   "id": "f8b3d223",
   "metadata": {},
   "outputs": [],
   "source": [
    "validate_decision_tree(drop_list6, 'anomaly_binary')"
   ]
  },
  {
   "cell_type": "markdown",
   "id": "73fa2e31",
   "metadata": {},
   "source": [
    "## Decision Tree 7\n",
    "#### Features = 'vib1', 'vib2', 'amp_uni', 'mic1', 'mic2'\n",
    "#### Value = 'anomaly-binary'"
   ]
  },
  {
   "cell_type": "code",
   "execution_count": null,
   "id": "100f15e3",
   "metadata": {
    "scrolled": true
   },
   "outputs": [],
   "source": [
    "drop_list7 = ['Unnamed: 0', 'type', 'capacity', 'type_cat', 'capacity_cat', 'pump_cat',\n",
    "                'anomaly', 'anomaly_cat', 'datetime', 'date', 'time',\n",
    "                'vib1_x', 'vib1_y', 'vib1_z', 'vib2_x', 'vib2_y', 'vib2_z', 'amp1', 'amp2', 'pump', 'anomaly_binary_cat']\n",
    "\n",
    "run_decision_tree(drop_list7, 'anomaly_binary', ['vib1', 'vib2', 'amp_uni', 'mic1', 'mic2'])"
   ]
  },
  {
   "cell_type": "code",
   "execution_count": null,
   "id": "b9bb3d97",
   "metadata": {},
   "outputs": [],
   "source": [
    "validate_decision_tree(drop_list7, 'anomaly_binary')"
   ]
  },
  {
   "cell_type": "markdown",
   "id": "cc9c8326",
   "metadata": {},
   "source": [
    "## Decision Tree 8\n",
    "#### Features = 'vib1_x','vib1_y', 'vib1_z', 'vib2_x', 'vib2_y', 'vib2_z' 'amp1', 'amp2', 'mic1', 'mic2'\n",
    "#### Value = 'anomaly-binary'"
   ]
  },
  {
   "cell_type": "code",
   "execution_count": null,
   "id": "67b7d68e",
   "metadata": {},
   "outputs": [],
   "source": [
    "drop_list8 = ['Unnamed: 0', 'type', 'type_cat', 'capacity', 'capacity_cat', 'pump_cat',\n",
    "                'anomaly', 'anomaly_cat', 'datetime', 'date', 'time',\n",
    "                'vib1','vib2', 'amp_uni', 'pump', 'anomaly_binary_cat']\n",
    "\n",
    "run_decision_tree(drop_list8, 'anomaly_binary', ['vib1_x','vib1_y', 'vib1_z', 'vib2_x', 'vib2_y', 'vib2_z', 'amp1', 'amp2', 'mic1', 'mic2'])\n"
   ]
  },
  {
   "cell_type": "code",
   "execution_count": null,
   "id": "da541859",
   "metadata": {},
   "outputs": [],
   "source": [
    "validate_decision_tree(drop_list8, 'anomaly_binary')"
   ]
  }
 ],
 "metadata": {
  "kernelspec": {
   "display_name": "Python 3",
   "language": "python",
   "name": "python3"
  },
  "language_info": {
   "codemirror_mode": {
    "name": "ipython",
    "version": 3
   },
   "file_extension": ".py",
   "mimetype": "text/x-python",
   "name": "python",
   "nbconvert_exporter": "python",
   "pygments_lexer": "ipython3",
   "version": "3.8.8"
  }
 },
 "nbformat": 4,
 "nbformat_minor": 5
}
